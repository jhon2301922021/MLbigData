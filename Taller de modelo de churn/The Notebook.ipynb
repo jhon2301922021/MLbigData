{
 "cells": [
  {
   "cell_type": "markdown",
   "metadata": {
    "id": "xEcr4jdzTP7t"
   },
   "source": [
    "# **Welcome To the Notebook** \n"
   ]
  },
  {
   "cell_type": "markdown",
   "metadata": {
    "id": "O1eOogPqix4i"
   },
   "source": [
    "### **Task 1 - Loading our data**\n",
    "\n",
    "Installing the pyspark using pip"
   ]
  },
  {
   "cell_type": "code",
   "execution_count": 1,
   "metadata": {
    "colab": {
     "base_uri": "https://localhost:8080/"
    },
    "id": "pYfUECtFisDa",
    "outputId": "7a88ce4f-9754-4859-cdfc-ca329a4181fc"
   },
   "outputs": [
    {
     "name": "stdout",
     "output_type": "stream",
     "text": [
      "Requirement already satisfied: pyspark in /Users/jhonefrainpomarosles/.pyenv/versions/3.10.6/envs/lewagon/lib/python3.10/site-packages (3.5.2)\n",
      "Requirement already satisfied: py4j==0.10.9.7 in /Users/jhonefrainpomarosles/.pyenv/versions/3.10.6/envs/lewagon/lib/python3.10/site-packages (from pyspark) (0.10.9.7)\n",
      "\n",
      "\u001b[1m[\u001b[0m\u001b[34;49mnotice\u001b[0m\u001b[1;39;49m]\u001b[0m\u001b[39;49m A new release of pip is available: \u001b[0m\u001b[31;49m24.0\u001b[0m\u001b[39;49m -> \u001b[0m\u001b[32;49m24.3.1\u001b[0m\n",
      "\u001b[1m[\u001b[0m\u001b[34;49mnotice\u001b[0m\u001b[1;39;49m]\u001b[0m\u001b[39;49m To update, run: \u001b[0m\u001b[32;49mpython3.10 -m pip install --upgrade pip\u001b[0m\n"
     ]
    }
   ],
   "source": [
    "!pip install pyspark"
   ]
  },
  {
   "cell_type": "markdown",
   "metadata": {
    "id": "cr4LlOxmvUmW"
   },
   "source": [
    "Importing Modules"
   ]
  },
  {
   "cell_type": "code",
   "execution_count": null,
   "metadata": {
    "id": "tiE8RPAHvWHD"
   },
   "outputs": [],
   "source": [
    "# importing spark session\n",
    "from pyspark.sql import SparkSession\n",
    "\n",
    "# data visualization modules\n",
    "import matplotlib.pyplot as plt\n",
    "import plotly.express as px\n",
    "\n",
    "# pandas module\n",
    "import pandas as pd\n",
    "\n",
    "# pyspark SQL functions\n",
    "from pyspark.sql.functions import col, when, count, udf\n",
    "\n",
    "# pyspark data preprocessing modules\n",
    "from pyspark.ml.feature import Imputer, StringIndexer, VectorAssembler, StandardScaler, OneHotEncoder\n",
    "\n",
    "# pyspark data modeling and model evaluation modules\n",
    "from pyspark.ml.classification import DecisionTreeClassifier\n",
    "from pyspark.ml.evaluation import BinaryClassificationEvaluator\n"
   ]
  },
  {
   "cell_type": "markdown",
   "metadata": {
    "id": "W-_0aGYvj6sI"
   },
   "source": [
    "Building our Spark Session"
   ]
  },
  {
   "cell_type": "code",
   "execution_count": 3,
   "metadata": {
    "colab": {
     "base_uri": "https://localhost:8080/",
     "height": 219
    },
    "id": "qQgz_0Zgiilu",
    "outputId": "c2d690a8-e119-45e5-975f-57d16e55e1a7"
   },
   "outputs": [
    {
     "name": "stderr",
     "output_type": "stream",
     "text": [
      "24/11/26 19:31:00 WARN Utils: Your hostname, MacBook-Pro-de-Jhon.local resolves to a loopback address: 127.0.0.1; using 192.168.18.9 instead (on interface en0)\n",
      "24/11/26 19:31:00 WARN Utils: Set SPARK_LOCAL_IP if you need to bind to another address\n",
      "Setting default log level to \"WARN\".\n",
      "To adjust logging level use sc.setLogLevel(newLevel). For SparkR, use setLogLevel(newLevel).\n",
      "24/11/26 19:31:01 WARN NativeCodeLoader: Unable to load native-hadoop library for your platform... using builtin-java classes where applicable\n",
      "24/11/26 19:31:02 WARN Utils: Service 'SparkUI' could not bind on port 4040. Attempting port 4041.\n"
     ]
    },
    {
     "data": {
      "text/html": [
       "\n",
       "            <div>\n",
       "                <p><b>SparkSession - in-memory</b></p>\n",
       "                \n",
       "        <div>\n",
       "            <p><b>SparkContext</b></p>\n",
       "\n",
       "            <p><a href=\"http://192.168.18.9:4041\">Spark UI</a></p>\n",
       "\n",
       "            <dl>\n",
       "              <dt>Version</dt>\n",
       "                <dd><code>v3.5.2</code></dd>\n",
       "              <dt>Master</dt>\n",
       "                <dd><code>local[*]</code></dd>\n",
       "              <dt>AppName</dt>\n",
       "                <dd><code>Customer_Churn_Prediction</code></dd>\n",
       "            </dl>\n",
       "        </div>\n",
       "        \n",
       "            </div>\n",
       "        "
      ],
      "text/plain": [
       "<pyspark.sql.session.SparkSession at 0x1385225f0>"
      ]
     },
     "execution_count": 3,
     "metadata": {},
     "output_type": "execute_result"
    }
   ],
   "source": [
    "spark = SparkSession.builder.appName(\"Customer_Churn_Prediction\").getOrCreate()\n",
    "spark"
   ]
  },
  {
   "cell_type": "markdown",
   "metadata": {
    "id": "B1aneLUYvh71"
   },
   "source": [
    "Loading our data"
   ]
  },
  {
   "cell_type": "code",
   "execution_count": 4,
   "metadata": {
    "colab": {
     "base_uri": "https://localhost:8080/"
    },
    "id": "J3Y1melCvqN5",
    "outputId": "4ec11999-9b13-425d-b229-f1455a667e9c"
   },
   "outputs": [
    {
     "name": "stdout",
     "output_type": "stream",
     "text": [
      "+----------+------+-------------+-------+----------+------+------------+----------------+---------------+--------------+------------+----------------+-----------+-----------+---------------+--------------+----------------+--------------------+--------------+------------+-----+\n",
      "|customerID|gender|SeniorCitizen|Partner|Dependents|tenure|PhoneService|   MultipleLines|InternetService|OnlineSecurity|OnlineBackup|DeviceProtection|TechSupport|StreamingTV|StreamingMovies|      Contract|PaperlessBilling|       PaymentMethod|MonthlyCharges|TotalCharges|Churn|\n",
      "+----------+------+-------------+-------+----------+------+------------+----------------+---------------+--------------+------------+----------------+-----------+-----------+---------------+--------------+----------------+--------------------+--------------+------------+-----+\n",
      "|7590-VHVEG|Female|           No|    Yes|        No|     1|          No|No phone service|            DSL|            No|         Yes|              No|         No|         No|             No|Month-to-month|             Yes|    Electronic check|         29.85|       29.85|   No|\n",
      "|5575-GNVDE|  Male|           No|     No|        No|    34|         Yes|              No|            DSL|           Yes|          No|             Yes|         No|         No|             No|      One year|              No|        Mailed check|         56.95|      1889.5|   No|\n",
      "|3668-QPYBK|  Male|           No|     No|        No|     2|         Yes|              No|            DSL|           Yes|         Yes|              No|         No|         No|             No|Month-to-month|             Yes|        Mailed check|         53.85|      108.15|  Yes|\n",
      "|7795-CFOCW|  Male|           No|     No|        No|    45|          No|No phone service|            DSL|           Yes|          No|             Yes|        Yes|         No|             No|      One year|              No|Bank transfer (au...|          42.3|     1840.75|   No|\n",
      "|9237-HQITU|Female|           No|     No|        No|     2|         Yes|              No|    Fiber optic|            No|          No|              No|         No|         No|             No|Month-to-month|             Yes|    Electronic check|          70.7|      151.65|  Yes|\n",
      "+----------+------+-------------+-------+----------+------+------------+----------------+---------------+--------------+------------+----------------+-----------+-----------+---------------+--------------+----------------+--------------------+--------------+------------+-----+\n",
      "only showing top 5 rows\n",
      "\n"
     ]
    }
   ],
   "source": [
    "data=spark.read.format('csv').option(\"header\",True).option(\"inferSchema\",True).load('data2/dataset.csv')\n",
    "data.show(5)"
   ]
  },
  {
   "cell_type": "markdown",
   "metadata": {
    "id": "TeY_Znoi4WQA"
   },
   "source": [
    "Print the data schema to check out the data types"
   ]
  },
  {
   "cell_type": "code",
   "execution_count": 5,
   "metadata": {
    "colab": {
     "base_uri": "https://localhost:8080/"
    },
    "id": "6yopaRXr4Ufr",
    "outputId": "0f54436b-6e4e-4c4a-8918-602bf92dba77"
   },
   "outputs": [
    {
     "name": "stdout",
     "output_type": "stream",
     "text": [
      "root\n",
      " |-- customerID: string (nullable = true)\n",
      " |-- gender: string (nullable = true)\n",
      " |-- SeniorCitizen: string (nullable = true)\n",
      " |-- Partner: string (nullable = true)\n",
      " |-- Dependents: string (nullable = true)\n",
      " |-- tenure: integer (nullable = true)\n",
      " |-- PhoneService: string (nullable = true)\n",
      " |-- MultipleLines: string (nullable = true)\n",
      " |-- InternetService: string (nullable = true)\n",
      " |-- OnlineSecurity: string (nullable = true)\n",
      " |-- OnlineBackup: string (nullable = true)\n",
      " |-- DeviceProtection: string (nullable = true)\n",
      " |-- TechSupport: string (nullable = true)\n",
      " |-- StreamingTV: string (nullable = true)\n",
      " |-- StreamingMovies: string (nullable = true)\n",
      " |-- Contract: string (nullable = true)\n",
      " |-- PaperlessBilling: string (nullable = true)\n",
      " |-- PaymentMethod: string (nullable = true)\n",
      " |-- MonthlyCharges: double (nullable = true)\n",
      " |-- TotalCharges: double (nullable = true)\n",
      " |-- Churn: string (nullable = true)\n",
      "\n"
     ]
    }
   ],
   "source": [
    "data.printSchema()"
   ]
  },
  {
   "cell_type": "markdown",
   "metadata": {
    "id": "Od0SPukD3kPI"
   },
   "source": [
    "Get the data dimension "
   ]
  },
  {
   "cell_type": "code",
   "execution_count": 6,
   "metadata": {
    "colab": {
     "base_uri": "https://localhost:8080/"
    },
    "id": "EW0B267Wv0tm",
    "outputId": "26ad0524-5261-4398-d7c2-3a953262cf9a"
   },
   "outputs": [
    {
     "data": {
      "text/plain": [
       "7043"
      ]
     },
     "execution_count": 6,
     "metadata": {},
     "output_type": "execute_result"
    }
   ],
   "source": [
    "data.count()"
   ]
  },
  {
   "cell_type": "code",
   "execution_count": 7,
   "metadata": {},
   "outputs": [
    {
     "data": {
      "text/plain": [
       "['customerID',\n",
       " 'gender',\n",
       " 'SeniorCitizen',\n",
       " 'Partner',\n",
       " 'Dependents',\n",
       " 'tenure',\n",
       " 'PhoneService',\n",
       " 'MultipleLines',\n",
       " 'InternetService',\n",
       " 'OnlineSecurity',\n",
       " 'OnlineBackup',\n",
       " 'DeviceProtection',\n",
       " 'TechSupport',\n",
       " 'StreamingTV',\n",
       " 'StreamingMovies',\n",
       " 'Contract',\n",
       " 'PaperlessBilling',\n",
       " 'PaymentMethod',\n",
       " 'MonthlyCharges',\n",
       " 'TotalCharges',\n",
       " 'Churn']"
      ]
     },
     "execution_count": 7,
     "metadata": {},
     "output_type": "execute_result"
    }
   ],
   "source": [
    "data.columns"
   ]
  },
  {
   "cell_type": "markdown",
   "metadata": {
    "id": "oZzDBEKT2H9P"
   },
   "source": [
    "### **Task 2 - Exploratory Data Analysis**\n",
    "- Distribution Analysis\n",
    "- Correlation Analysis \n",
    "- Univariate Analysis \n",
    "- Finding Missing values"
   ]
  },
  {
   "cell_type": "markdown",
   "metadata": {
    "id": "VUWEEw9VTVor"
   },
   "source": [
    "Let's define some lists to store different column names with different data types."
   ]
  },
  {
   "cell_type": "code",
   "execution_count": 8,
   "metadata": {
    "colab": {
     "base_uri": "https://localhost:8080/"
    },
    "id": "H4cJoyG-Ubel",
    "outputId": "d657bcec-743b-4e07-de9a-dfb96dd51cd7"
   },
   "outputs": [
    {
     "name": "stdout",
     "output_type": "stream",
     "text": [
      "+----------+------+-------------+-------+----------+------+------------+----------------+---------------+--------------+------------+----------------+-----------+-----------+---------------+--------------+----------------+--------------------+--------------+------------+-----+\n",
      "|customerID|gender|SeniorCitizen|Partner|Dependents|tenure|PhoneService|   MultipleLines|InternetService|OnlineSecurity|OnlineBackup|DeviceProtection|TechSupport|StreamingTV|StreamingMovies|      Contract|PaperlessBilling|       PaymentMethod|MonthlyCharges|TotalCharges|Churn|\n",
      "+----------+------+-------------+-------+----------+------+------------+----------------+---------------+--------------+------------+----------------+-----------+-----------+---------------+--------------+----------------+--------------------+--------------+------------+-----+\n",
      "|7590-VHVEG|Female|           No|    Yes|        No|     1|          No|No phone service|            DSL|            No|         Yes|              No|         No|         No|             No|Month-to-month|             Yes|    Electronic check|         29.85|       29.85|   No|\n",
      "|5575-GNVDE|  Male|           No|     No|        No|    34|         Yes|              No|            DSL|           Yes|          No|             Yes|         No|         No|             No|      One year|              No|        Mailed check|         56.95|      1889.5|   No|\n",
      "|3668-QPYBK|  Male|           No|     No|        No|     2|         Yes|              No|            DSL|           Yes|         Yes|              No|         No|         No|             No|Month-to-month|             Yes|        Mailed check|         53.85|      108.15|  Yes|\n",
      "|7795-CFOCW|  Male|           No|     No|        No|    45|          No|No phone service|            DSL|           Yes|          No|             Yes|        Yes|         No|             No|      One year|              No|Bank transfer (au...|          42.3|     1840.75|   No|\n",
      "|9237-HQITU|Female|           No|     No|        No|     2|         Yes|              No|    Fiber optic|            No|          No|              No|         No|         No|             No|Month-to-month|             Yes|    Electronic check|          70.7|      151.65|  Yes|\n",
      "+----------+------+-------------+-------+----------+------+------------+----------------+---------------+--------------+------------+----------------+-----------+-----------+---------------+--------------+----------------+--------------------+--------------+------------+-----+\n",
      "only showing top 5 rows\n",
      "\n"
     ]
    }
   ],
   "source": [
    "data.show(5)"
   ]
  },
  {
   "cell_type": "code",
   "execution_count": 9,
   "metadata": {},
   "outputs": [],
   "source": [
    "dataset_dictionary = {\n",
    "    \"customerID\": \"Identificador único de cada cliente.\",\n",
    "    \"gender\": \"Género del cliente ('Male' o 'Female').\",\n",
    "    \"SeniorCitizen\": \"Indica si el cliente es un ciudadano senior (1: Sí, 0: No).\",\n",
    "    \"Partner\": \"Indica si el cliente tiene pareja ('Yes' o 'No').\",\n",
    "    \"Dependents\": \"Indica si el cliente tiene dependientes ('Yes' o 'No').\",\n",
    "    \"tenure\": \"Número de meses que el cliente ha estado con la compañía.\",\n",
    "    \"PhoneService\": \"Indica si el cliente tiene servicio telefónico ('Yes' o 'No').\",\n",
    "    \"MultipleLines\": \"Indica si el cliente tiene múltiples líneas telefónicas ('Yes', 'No' o 'No phone service').\",\n",
    "    \"InternetService\": \"Tipo de servicio de internet del cliente ('DSL', 'Fiber optic' o 'No').\",\n",
    "    \"OnlineSecurity\": \"Indica si el cliente tiene seguridad en línea ('Yes', 'No' o 'No internet service').\",\n",
    "    \"OnlineBackup\": \"Indica si el cliente tiene respaldo en línea ('Yes', 'No' o 'No internet service').\",\n",
    "    \"DeviceProtection\": \"Indica si el cliente tiene protección de dispositivos ('Yes', 'No' o 'No internet service').\",\n",
    "    \"TechSupport\": \"Indica si el cliente tiene soporte técnico ('Yes', 'No' o 'No internet service').\",\n",
    "    \"StreamingTV\": \"Indica si el cliente tiene servicio de TV en streaming ('Yes', 'No' o 'No internet service').\",\n",
    "    \"StreamingMovies\": \"Indica si el cliente tiene servicio de películas en streaming ('Yes', 'No' o 'No internet service').\",\n",
    "    \"Contract\": \"Tipo de contrato del cliente ('Month-to-month', 'One year', 'Two year').\",\n",
    "    \"PaperlessBilling\": \"Indica si el cliente tiene facturación sin papel ('Yes' o 'No').\",\n",
    "    \"PaymentMethod\": \"Método de pago utilizado por el cliente ('Electronic check', 'Mailed check', 'Bank transfer (automatic)', 'Credit card (automatic)').\",\n",
    "    \"MonthlyCharges\": \"Cuota mensual que paga el cliente.\",\n",
    "    \"TotalCharges\": \"Cantidad total pagada por el cliente durante su permanencia.\",\n",
    "    \"Churn\": \"Indica si el cliente abandonó el servicio ('Yes' o 'No').\"\n",
    "}\n"
   ]
  },
  {
   "cell_type": "code",
   "execution_count": 10,
   "metadata": {},
   "outputs": [
    {
     "data": {
      "text/plain": [
       "{'customerID': 'Identificador único de cada cliente.',\n",
       " 'gender': \"Género del cliente ('Male' o 'Female').\",\n",
       " 'SeniorCitizen': 'Indica si el cliente es un ciudadano senior (1: Sí, 0: No).',\n",
       " 'Partner': \"Indica si el cliente tiene pareja ('Yes' o 'No').\",\n",
       " 'Dependents': \"Indica si el cliente tiene dependientes ('Yes' o 'No').\",\n",
       " 'tenure': 'Número de meses que el cliente ha estado con la compañía.',\n",
       " 'PhoneService': \"Indica si el cliente tiene servicio telefónico ('Yes' o 'No').\",\n",
       " 'MultipleLines': \"Indica si el cliente tiene múltiples líneas telefónicas ('Yes', 'No' o 'No phone service').\",\n",
       " 'InternetService': \"Tipo de servicio de internet del cliente ('DSL', 'Fiber optic' o 'No').\",\n",
       " 'OnlineSecurity': \"Indica si el cliente tiene seguridad en línea ('Yes', 'No' o 'No internet service').\",\n",
       " 'OnlineBackup': \"Indica si el cliente tiene respaldo en línea ('Yes', 'No' o 'No internet service').\",\n",
       " 'DeviceProtection': \"Indica si el cliente tiene protección de dispositivos ('Yes', 'No' o 'No internet service').\",\n",
       " 'TechSupport': \"Indica si el cliente tiene soporte técnico ('Yes', 'No' o 'No internet service').\",\n",
       " 'StreamingTV': \"Indica si el cliente tiene servicio de TV en streaming ('Yes', 'No' o 'No internet service').\",\n",
       " 'StreamingMovies': \"Indica si el cliente tiene servicio de películas en streaming ('Yes', 'No' o 'No internet service').\",\n",
       " 'Contract': \"Tipo de contrato del cliente ('Month-to-month', 'One year', 'Two year').\",\n",
       " 'PaperlessBilling': \"Indica si el cliente tiene facturación sin papel ('Yes' o 'No').\",\n",
       " 'PaymentMethod': \"Método de pago utilizado por el cliente ('Electronic check', 'Mailed check', 'Bank transfer (automatic)', 'Credit card (automatic)').\",\n",
       " 'MonthlyCharges': 'Cuota mensual que paga el cliente.',\n",
       " 'TotalCharges': 'Cantidad total pagada por el cliente durante su permanencia.',\n",
       " 'Churn': \"Indica si el cliente abandonó el servicio ('Yes' o 'No').\"}"
      ]
     },
     "execution_count": 10,
     "metadata": {},
     "output_type": "execute_result"
    }
   ],
   "source": [
    "dataset_dictionary"
   ]
  },
  {
   "cell_type": "code",
   "execution_count": 11,
   "metadata": {},
   "outputs": [
    {
     "data": {
      "text/plain": [
       "[('customerID', 'string'),\n",
       " ('gender', 'string'),\n",
       " ('SeniorCitizen', 'string'),\n",
       " ('Partner', 'string'),\n",
       " ('Dependents', 'string'),\n",
       " ('tenure', 'int'),\n",
       " ('PhoneService', 'string'),\n",
       " ('MultipleLines', 'string'),\n",
       " ('InternetService', 'string'),\n",
       " ('OnlineSecurity', 'string'),\n",
       " ('OnlineBackup', 'string'),\n",
       " ('DeviceProtection', 'string'),\n",
       " ('TechSupport', 'string'),\n",
       " ('StreamingTV', 'string'),\n",
       " ('StreamingMovies', 'string'),\n",
       " ('Contract', 'string'),\n",
       " ('PaperlessBilling', 'string'),\n",
       " ('PaymentMethod', 'string'),\n",
       " ('MonthlyCharges', 'double'),\n",
       " ('TotalCharges', 'double'),\n",
       " ('Churn', 'string')]"
      ]
     },
     "execution_count": 11,
     "metadata": {},
     "output_type": "execute_result"
    }
   ],
   "source": [
    "data.dtypes"
   ]
  },
  {
   "cell_type": "markdown",
   "metadata": {
    "id": "DYoYREY75vfo"
   },
   "source": [
    "Let's get all the numerical features and store them into a pandas dataframe."
   ]
  },
  {
   "cell_type": "code",
   "execution_count": 12,
   "metadata": {
    "colab": {
     "base_uri": "https://localhost:8080/",
     "height": 206
    },
    "id": "CWYeP2xp45Ot",
    "outputId": "c5a72014-9cad-4e3e-99bf-6b5dbbbd84d4"
   },
   "outputs": [],
   "source": [
    "numerical_features = [col_name for col_name, dtype in data.dtypes if dtype in ['int', 'double']]"
   ]
  },
  {
   "cell_type": "code",
   "execution_count": 13,
   "metadata": {},
   "outputs": [
    {
     "data": {
      "text/plain": [
       "['tenure', 'MonthlyCharges', 'TotalCharges']"
      ]
     },
     "execution_count": 13,
     "metadata": {},
     "output_type": "execute_result"
    }
   ],
   "source": [
    "numerical_features"
   ]
  },
  {
   "cell_type": "code",
   "execution_count": 14,
   "metadata": {},
   "outputs": [],
   "source": [
    "categorical_features = [col_name for col_name in data.columns if col_name not in numerical_features]"
   ]
  },
  {
   "cell_type": "code",
   "execution_count": 15,
   "metadata": {},
   "outputs": [
    {
     "data": {
      "text/plain": [
       "['customerID',\n",
       " 'gender',\n",
       " 'SeniorCitizen',\n",
       " 'Partner',\n",
       " 'Dependents',\n",
       " 'PhoneService',\n",
       " 'MultipleLines',\n",
       " 'InternetService',\n",
       " 'OnlineSecurity',\n",
       " 'OnlineBackup',\n",
       " 'DeviceProtection',\n",
       " 'TechSupport',\n",
       " 'StreamingTV',\n",
       " 'StreamingMovies',\n",
       " 'Contract',\n",
       " 'PaperlessBilling',\n",
       " 'PaymentMethod',\n",
       " 'Churn']"
      ]
     },
     "execution_count": 15,
     "metadata": {},
     "output_type": "execute_result"
    }
   ],
   "source": [
    "categorical_features"
   ]
  },
  {
   "cell_type": "code",
   "execution_count": 16,
   "metadata": {},
   "outputs": [
    {
     "name": "stdout",
     "output_type": "stream",
     "text": [
      "+-------+------------------+------------------+------------------+\n",
      "|summary|            tenure|    MonthlyCharges|      TotalCharges|\n",
      "+-------+------------------+------------------+------------------+\n",
      "|  count|              7043|              7043|              7032|\n",
      "|   mean|32.435751810308105| 64.76169246059922|2283.3004408418697|\n",
      "| stddev| 25.07522813150339|30.090047097678482| 2266.771361883145|\n",
      "|    min|                 0|             18.25|              18.8|\n",
      "|    max|               458|            118.75|            8684.8|\n",
      "+-------+------------------+------------------+------------------+\n",
      "\n"
     ]
    }
   ],
   "source": [
    "data.select(numerical_features).describe().show()"
   ]
  },
  {
   "cell_type": "code",
   "execution_count": 17,
   "metadata": {},
   "outputs": [
    {
     "data": {
      "text/html": [
       "<div>\n",
       "<style scoped>\n",
       "    .dataframe tbody tr th:only-of-type {\n",
       "        vertical-align: middle;\n",
       "    }\n",
       "\n",
       "    .dataframe tbody tr th {\n",
       "        vertical-align: top;\n",
       "    }\n",
       "\n",
       "    .dataframe thead th {\n",
       "        text-align: right;\n",
       "    }\n",
       "</style>\n",
       "<table border=\"1\" class=\"dataframe\">\n",
       "  <thead>\n",
       "    <tr style=\"text-align: right;\">\n",
       "      <th></th>\n",
       "      <th>tenure</th>\n",
       "      <th>MonthlyCharges</th>\n",
       "      <th>TotalCharges</th>\n",
       "    </tr>\n",
       "  </thead>\n",
       "  <tbody>\n",
       "    <tr>\n",
       "      <th>0</th>\n",
       "      <td>1</td>\n",
       "      <td>29.85</td>\n",
       "      <td>29.85</td>\n",
       "    </tr>\n",
       "    <tr>\n",
       "      <th>1</th>\n",
       "      <td>34</td>\n",
       "      <td>56.95</td>\n",
       "      <td>1889.50</td>\n",
       "    </tr>\n",
       "    <tr>\n",
       "      <th>2</th>\n",
       "      <td>2</td>\n",
       "      <td>53.85</td>\n",
       "      <td>108.15</td>\n",
       "    </tr>\n",
       "    <tr>\n",
       "      <th>3</th>\n",
       "      <td>45</td>\n",
       "      <td>42.30</td>\n",
       "      <td>1840.75</td>\n",
       "    </tr>\n",
       "    <tr>\n",
       "      <th>4</th>\n",
       "      <td>2</td>\n",
       "      <td>70.70</td>\n",
       "      <td>151.65</td>\n",
       "    </tr>\n",
       "  </tbody>\n",
       "</table>\n",
       "</div>"
      ],
      "text/plain": [
       "   tenure  MonthlyCharges  TotalCharges\n",
       "0       1           29.85         29.85\n",
       "1      34           56.95       1889.50\n",
       "2       2           53.85        108.15\n",
       "3      45           42.30       1840.75\n",
       "4       2           70.70        151.65"
      ]
     },
     "execution_count": 17,
     "metadata": {},
     "output_type": "execute_result"
    }
   ],
   "source": [
    "df=data.select(numerical_features).toPandas()\n",
    "df.head()"
   ]
  },
  {
   "cell_type": "markdown",
   "metadata": {
    "id": "PZgNnbgnNtTe"
   },
   "source": [
    "Let's create histograms to analyse the distribution of our numerical columns. "
   ]
  },
  {
   "cell_type": "code",
   "execution_count": 18,
   "metadata": {},
   "outputs": [
    {
     "name": "stderr",
     "output_type": "stream",
     "text": [
      "/var/folders/86/slj0ktrj7tdgt8t02sx1hqnw0000gn/T/ipykernel_55243/16566959.py:3: UserWarning: To output multiple subplots, the figure containing the passed axes is being cleared.\n",
      "  df.hist(ax=ax,bins=30)\n"
     ]
    },
    {
     "data": {
      "text/plain": [
       "count    7043.000000\n",
       "mean       32.435752\n",
       "std        25.075228\n",
       "min         0.000000\n",
       "25%         9.000000\n",
       "50%        29.000000\n",
       "75%        55.000000\n",
       "max       458.000000\n",
       "Name: tenure, dtype: float64"
      ]
     },
     "execution_count": 18,
     "metadata": {},
     "output_type": "execute_result"
    },
    {
     "data": {
      "image/png": "[encoded data removed]",
      "text/plain": [
       "<Figure size 2000x1000 with 4 Axes>"
      ]
     },
     "metadata": {},
     "output_type": "display_data"
    }
   ],
   "source": [
    "fig=plt.figure(figsize=(20,10))\n",
    "ax=fig.gca()\n",
    "df.hist(ax=ax,bins=30)\n",
    "df.tenure.describe()"
   ]
  },
  {
   "cell_type": "code",
   "execution_count": null,
   "metadata": {
    "colab": {
     "base_uri": "https://localhost:8080/",
     "height": 974
    },
    "id": "gizkvQ3oNsuo",
    "outputId": "f56ba6ed-3112-42cb-845f-a637ae4c8489"
   },
   "outputs": [],
   "source": []
  },
  {
   "cell_type": "markdown",
   "metadata": {
    "id": "9qjCcR72ru2_"
   },
   "source": [
    "Let's generate the correlation matrix "
   ]
  },
  {
   "cell_type": "code",
   "execution_count": 19,
   "metadata": {
    "colab": {
     "base_uri": "https://localhost:8080/",
     "height": 143
    },
    "id": "ldNx2GuVrvAR",
    "outputId": "ae29ba81-c8bb-4b06-83f3-e9338143f7fc"
   },
   "outputs": [
    {
     "data": {
      "text/html": [
       "<div>\n",
       "<style scoped>\n",
       "    .dataframe tbody tr th:only-of-type {\n",
       "        vertical-align: middle;\n",
       "    }\n",
       "\n",
       "    .dataframe tbody tr th {\n",
       "        vertical-align: top;\n",
       "    }\n",
       "\n",
       "    .dataframe thead th {\n",
       "        text-align: right;\n",
       "    }\n",
       "</style>\n",
       "<table border=\"1\" class=\"dataframe\">\n",
       "  <thead>\n",
       "    <tr style=\"text-align: right;\">\n",
       "      <th></th>\n",
       "      <th>tenure</th>\n",
       "      <th>MonthlyCharges</th>\n",
       "      <th>TotalCharges</th>\n",
       "    </tr>\n",
       "  </thead>\n",
       "  <tbody>\n",
       "    <tr>\n",
       "      <th>tenure</th>\n",
       "      <td>1.000000</td>\n",
       "      <td>0.243703</td>\n",
       "      <td>0.806530</td>\n",
       "    </tr>\n",
       "    <tr>\n",
       "      <th>MonthlyCharges</th>\n",
       "      <td>0.243703</td>\n",
       "      <td>1.000000</td>\n",
       "      <td>0.651065</td>\n",
       "    </tr>\n",
       "    <tr>\n",
       "      <th>TotalCharges</th>\n",
       "      <td>0.806530</td>\n",
       "      <td>0.651065</td>\n",
       "      <td>1.000000</td>\n",
       "    </tr>\n",
       "  </tbody>\n",
       "</table>\n",
       "</div>"
      ],
      "text/plain": [
       "                  tenure  MonthlyCharges  TotalCharges\n",
       "tenure          1.000000        0.243703      0.806530\n",
       "MonthlyCharges  0.243703        1.000000      0.651065\n",
       "TotalCharges    0.806530        0.651065      1.000000"
      ]
     },
     "execution_count": 19,
     "metadata": {},
     "output_type": "execute_result"
    }
   ],
   "source": [
    "df.corr()"
   ]
  },
  {
   "cell_type": "markdown",
   "metadata": {
    "id": "vbBRqQQJhmqg"
   },
   "source": [
    "Let's check the unique value count per each categorical variables"
   ]
  },
  {
   "cell_type": "code",
   "execution_count": 20,
   "metadata": {
    "colab": {
     "base_uri": "https://localhost:8080/"
    },
    "id": "pgXj3fjJb0th",
    "outputId": "2caa145f-55b2-4dae-a297-e74a8ea857d6"
   },
   "outputs": [
    {
     "data": {
      "text/plain": [
       "['customerID',\n",
       " 'gender',\n",
       " 'SeniorCitizen',\n",
       " 'Partner',\n",
       " 'Dependents',\n",
       " 'PhoneService',\n",
       " 'MultipleLines',\n",
       " 'InternetService',\n",
       " 'OnlineSecurity',\n",
       " 'OnlineBackup',\n",
       " 'DeviceProtection',\n",
       " 'TechSupport',\n",
       " 'StreamingTV',\n",
       " 'StreamingMovies',\n",
       " 'Contract',\n",
       " 'PaperlessBilling',\n",
       " 'PaymentMethod',\n",
       " 'Churn']"
      ]
     },
     "execution_count": 20,
     "metadata": {},
     "output_type": "execute_result"
    }
   ],
   "source": [
    "categorical_features"
   ]
  },
  {
   "cell_type": "code",
   "execution_count": 21,
   "metadata": {},
   "outputs": [
    {
     "name": "stdout",
     "output_type": "stream",
     "text": [
      "+--------------+\n",
      "|      Contract|\n",
      "+--------------+\n",
      "|Month-to-month|\n",
      "|      One year|\n",
      "|Month-to-month|\n",
      "|      One year|\n",
      "|Month-to-month|\n",
      "|Month-to-month|\n",
      "|Month-to-month|\n",
      "|Month-to-month|\n",
      "|Month-to-month|\n",
      "|      One year|\n",
      "|Month-to-month|\n",
      "|      Two year|\n",
      "|      One year|\n",
      "|Month-to-month|\n",
      "|Month-to-month|\n",
      "|      Two year|\n",
      "|      One year|\n",
      "|      Two year|\n",
      "|Month-to-month|\n",
      "|Month-to-month|\n",
      "+--------------+\n",
      "only showing top 20 rows\n",
      "\n"
     ]
    }
   ],
   "source": [
    "data.select(\"Contract\").show()"
   ]
  },
  {
   "cell_type": "code",
   "execution_count": 22,
   "metadata": {},
   "outputs": [
    {
     "name": "stdout",
     "output_type": "stream",
     "text": [
      "+----------+-----+\n",
      "|customerID|count|\n",
      "+----------+-----+\n",
      "|3668-QPYBK|    1|\n",
      "|6234-RAAPL|    1|\n",
      "|1894-IGFSG|    1|\n",
      "|6982-SSHFK|    1|\n",
      "|5859-HZYLF|    1|\n",
      "|6479-OAUSD|    1|\n",
      "|2592-YKDIF|    1|\n",
      "|6718-BDGHG|    1|\n",
      "|3195-TQDZX|    1|\n",
      "|4248-QPAVC|    1|\n",
      "|5668-MEISB|    1|\n",
      "|5802-ADBRC|    1|\n",
      "|2712-SYWAY|    1|\n",
      "|2011-TRQYE|    1|\n",
      "|7244-KXYZN|    1|\n",
      "|0953-LGOVU|    1|\n",
      "|3623-FQBOX|    1|\n",
      "|3692-JHONH|    1|\n",
      "|3528-HFRIQ|    1|\n",
      "|7661-CPURM|    1|\n",
      "+----------+-----+\n",
      "only showing top 20 rows\n",
      "\n",
      "+------+-----+\n",
      "|gender|count|\n",
      "+------+-----+\n",
      "|Female| 3488|\n",
      "|  Male| 3555|\n",
      "+------+-----+\n",
      "\n",
      "+-------------+-----+\n",
      "|SeniorCitizen|count|\n",
      "+-------------+-----+\n",
      "|           No| 5901|\n",
      "|          Yes| 1142|\n",
      "+-------------+-----+\n",
      "\n",
      "+-------+-----+\n",
      "|Partner|count|\n",
      "+-------+-----+\n",
      "|     No| 3641|\n",
      "|    Yes| 3402|\n",
      "+-------+-----+\n",
      "\n",
      "+----------+-----+\n",
      "|Dependents|count|\n",
      "+----------+-----+\n",
      "|        No| 4933|\n",
      "|       Yes| 2110|\n",
      "+----------+-----+\n",
      "\n",
      "+------------+-----+\n",
      "|PhoneService|count|\n",
      "+------------+-----+\n",
      "|          No|  682|\n",
      "|         Yes| 6361|\n",
      "+------------+-----+\n",
      "\n",
      "+----------------+-----+\n",
      "|   MultipleLines|count|\n",
      "+----------------+-----+\n",
      "|No phone service|  682|\n",
      "|              No| 3390|\n",
      "|             Yes| 2971|\n",
      "+----------------+-----+\n",
      "\n",
      "+---------------+-----+\n",
      "|InternetService|count|\n",
      "+---------------+-----+\n",
      "|    Fiber optic| 3096|\n",
      "|             No| 1526|\n",
      "|            DSL| 2421|\n",
      "+---------------+-----+\n",
      "\n",
      "+-------------------+-----+\n",
      "|     OnlineSecurity|count|\n",
      "+-------------------+-----+\n",
      "|                 No| 3498|\n",
      "|                Yes| 2019|\n",
      "|No internet service| 1526|\n",
      "+-------------------+-----+\n",
      "\n",
      "+-------------------+-----+\n",
      "|       OnlineBackup|count|\n",
      "+-------------------+-----+\n",
      "|                 No| 3088|\n",
      "|                Yes| 2429|\n",
      "|No internet service| 1526|\n",
      "+-------------------+-----+\n",
      "\n",
      "+-------------------+-----+\n",
      "|   DeviceProtection|count|\n",
      "+-------------------+-----+\n",
      "|                 No| 3095|\n",
      "|                Yes| 2422|\n",
      "|No internet service| 1526|\n",
      "+-------------------+-----+\n",
      "\n",
      "+-------------------+-----+\n",
      "|        TechSupport|count|\n",
      "+-------------------+-----+\n",
      "|                 No| 3473|\n",
      "|                Yes| 2044|\n",
      "|No internet service| 1526|\n",
      "+-------------------+-----+\n",
      "\n",
      "+-------------------+-----+\n",
      "|        StreamingTV|count|\n",
      "+-------------------+-----+\n",
      "|                 No| 2810|\n",
      "|                Yes| 2707|\n",
      "|No internet service| 1526|\n",
      "+-------------------+-----+\n",
      "\n",
      "+-------------------+-----+\n",
      "|    StreamingMovies|count|\n",
      "+-------------------+-----+\n",
      "|                 No| 2785|\n",
      "|                Yes| 2732|\n",
      "|No internet service| 1526|\n",
      "+-------------------+-----+\n",
      "\n",
      "+--------------+-----+\n",
      "|      Contract|count|\n",
      "+--------------+-----+\n",
      "|Month-to-month| 3875|\n",
      "|      One year| 1473|\n",
      "|      Two year| 1695|\n",
      "+--------------+-----+\n",
      "\n",
      "+----------------+-----+\n",
      "|PaperlessBilling|count|\n",
      "+----------------+-----+\n",
      "|              No| 2872|\n",
      "|             Yes| 4171|\n",
      "+----------------+-----+\n",
      "\n",
      "+--------------------+-----+\n",
      "|       PaymentMethod|count|\n",
      "+--------------------+-----+\n",
      "|Credit card (auto...| 1522|\n",
      "|        Mailed check| 1612|\n",
      "|Bank transfer (au...| 1544|\n",
      "|    Electronic check| 2365|\n",
      "+--------------------+-----+\n",
      "\n",
      "+-----+-----+\n",
      "|Churn|count|\n",
      "+-----+-----+\n",
      "|   No| 5174|\n",
      "|  Yes| 1869|\n",
      "+-----+-----+\n",
      "\n"
     ]
    }
   ],
   "source": [
    "for columns in categorical_features:\n",
    "    data.groupBy(columns).count().show()\n"
   ]
  },
  {
   "cell_type": "markdown",
   "metadata": {
    "id": "mgmiBcimTw5z"
   },
   "source": [
    "Let's find number of null values in all of our dataframe columns"
   ]
  },
  {
   "cell_type": "code",
   "execution_count": 23,
   "metadata": {
    "colab": {
     "base_uri": "https://localhost:8080/"
    },
    "id": "-vlBo7LWT1kB",
    "outputId": "d783add2-6bc8-4cc2-bf33-384bce02ed9a"
   },
   "outputs": [
    {
     "name": "stdout",
     "output_type": "stream",
     "text": [
      "+------------+\n",
      "|count(Churn)|\n",
      "+------------+\n",
      "|        7043|\n",
      "+------------+\n",
      "\n"
     ]
    }
   ],
   "source": [
    "data.select(count(col(\"Churn\"))).show()"
   ]
  },
  {
   "cell_type": "code",
   "execution_count": 24,
   "metadata": {},
   "outputs": [
    {
     "name": "stdout",
     "output_type": "stream",
     "text": [
      "+-----+\n",
      "|Churn|\n",
      "+-----+\n",
      "|   No|\n",
      "|  Yes|\n",
      "+-----+\n",
      "\n"
     ]
    }
   ],
   "source": [
    "data.select(\"Churn\").distinct().show()"
   ]
  },
  {
   "cell_type": "code",
   "execution_count": 25,
   "metadata": {},
   "outputs": [
    {
     "name": "stdout",
     "output_type": "stream",
     "text": [
      "+-----------------------------------------------+\n",
      "|count(CASE WHEN (Churn IS NULL) THEN Churn END)|\n",
      "+-----------------------------------------------+\n",
      "|                                              0|\n",
      "+-----------------------------------------------+\n",
      "\n"
     ]
    }
   ],
   "source": [
    "data.select(count(when(col(\"Churn\").isNull(),'Churn'))).show()"
   ]
  },
  {
   "cell_type": "code",
   "execution_count": 26,
   "metadata": {},
   "outputs": [
    {
     "name": "stdout",
     "output_type": "stream",
     "text": [
      "+-----+\n",
      "|Churn|\n",
      "+-----+\n",
      "|    0|\n",
      "+-----+\n",
      "\n"
     ]
    }
   ],
   "source": [
    "data.select(count(when(col(\"Churn\").isNull(),'Churn')).alias('Churn')).show()"
   ]
  },
  {
   "cell_type": "code",
   "execution_count": 27,
   "metadata": {},
   "outputs": [
    {
     "name": "stdout",
     "output_type": "stream",
     "text": [
      "+----------+\n",
      "|customerID|\n",
      "+----------+\n",
      "|         0|\n",
      "+----------+\n",
      "\n",
      "+------+\n",
      "|gender|\n",
      "+------+\n",
      "|     0|\n",
      "+------+\n",
      "\n",
      "+-------------+\n",
      "|SeniorCitizen|\n",
      "+-------------+\n",
      "|            0|\n",
      "+-------------+\n",
      "\n",
      "+-------+\n",
      "|Partner|\n",
      "+-------+\n",
      "|      0|\n",
      "+-------+\n",
      "\n",
      "+----------+\n",
      "|Dependents|\n",
      "+----------+\n",
      "|         0|\n",
      "+----------+\n",
      "\n",
      "+------------+\n",
      "|PhoneService|\n",
      "+------------+\n",
      "|           0|\n",
      "+------------+\n",
      "\n",
      "+-------------+\n",
      "|MultipleLines|\n",
      "+-------------+\n",
      "|            0|\n",
      "+-------------+\n",
      "\n",
      "+---------------+\n",
      "|InternetService|\n",
      "+---------------+\n",
      "|              0|\n",
      "+---------------+\n",
      "\n",
      "+--------------+\n",
      "|OnlineSecurity|\n",
      "+--------------+\n",
      "|             0|\n",
      "+--------------+\n",
      "\n",
      "+------------+\n",
      "|OnlineBackup|\n",
      "+------------+\n",
      "|           0|\n",
      "+------------+\n",
      "\n",
      "+----------------+\n",
      "|DeviceProtection|\n",
      "+----------------+\n",
      "|               0|\n",
      "+----------------+\n",
      "\n",
      "+-----------+\n",
      "|TechSupport|\n",
      "+-----------+\n",
      "|          0|\n",
      "+-----------+\n",
      "\n",
      "+-----------+\n",
      "|StreamingTV|\n",
      "+-----------+\n",
      "|          0|\n",
      "+-----------+\n",
      "\n",
      "+---------------+\n",
      "|StreamingMovies|\n",
      "+---------------+\n",
      "|              0|\n",
      "+---------------+\n",
      "\n",
      "+--------+\n",
      "|Contract|\n",
      "+--------+\n",
      "|       0|\n",
      "+--------+\n",
      "\n",
      "+----------------+\n",
      "|PaperlessBilling|\n",
      "+----------------+\n",
      "|               0|\n",
      "+----------------+\n",
      "\n",
      "+-------------+\n",
      "|PaymentMethod|\n",
      "+-------------+\n",
      "|            0|\n",
      "+-------------+\n",
      "\n",
      "+-----+\n",
      "|Churn|\n",
      "+-----+\n",
      "|    0|\n",
      "+-----+\n",
      "\n"
     ]
    }
   ],
   "source": [
    "for columns in categorical_features:\n",
    "    data.select(count(when(col(columns).isNull(),columns)).alias(columns)).show()"
   ]
  },
  {
   "cell_type": "markdown",
   "metadata": {
    "id": "WcTLE0ZdS-so"
   },
   "source": [
    "### **Task 3 - Data Preprocessing**\n",
    "- Handling the missing values\n",
    "- Removing the outliers"
   ]
  },
  {
   "cell_type": "markdown",
   "metadata": {
    "id": "bDKvkUiwzt_H"
   },
   "source": [
    "**Handling the missing values** <br>\n",
    "Let's create a list of column names with missing values"
   ]
  },
  {
   "cell_type": "code",
   "execution_count": 28,
   "metadata": {
    "id": "ABZfAKxRS3CN"
   },
   "outputs": [],
   "source": [
    "columns_with_null_values = [columns for columns in categorical_features if data.where(col(columns).isNull()).count() > 0]"
   ]
  },
  {
   "cell_type": "code",
   "execution_count": 29,
   "metadata": {},
   "outputs": [],
   "source": [
    "columns_with_null_values=['TotalCharges']"
   ]
  },
  {
   "cell_type": "markdown",
   "metadata": {
    "id": "ny4cfwKYzzJN"
   },
   "source": [
    "Creating our Imputer"
   ]
  },
  {
   "cell_type": "code",
   "execution_count": 30,
   "metadata": {
    "id": "lqBhbzyNzyFs"
   },
   "outputs": [],
   "source": [
    "imputer=Imputer(inputCols=columns_with_null_values,outputCols=columns_with_null_values).setStrategy(\"mean\")"
   ]
  },
  {
   "cell_type": "markdown",
   "metadata": {
    "id": "2XgghJUpz6wv"
   },
   "source": [
    "Use Imputer to fill the missing values"
   ]
  },
  {
   "cell_type": "code",
   "execution_count": 31,
   "metadata": {
    "id": "LmMfG-Gqz4m4"
   },
   "outputs": [],
   "source": [
    "if columns_with_null_values:\n",
    "\timputer = Imputer(inputCols=columns_with_null_values, outputCols=columns_with_null_values).setStrategy(\"mean\")\n",
    "\timputer = imputer.fit(data)\n",
    "\tdata = imputer.transform(data)\n",
    "else:\n",
    "\tprint(\"No columns with null values found.\")"
   ]
  },
  {
   "cell_type": "markdown",
   "metadata": {
    "id": "8fKFfw2G0A4j"
   },
   "source": [
    "Let's check the missing value counts again"
   ]
  },
  {
   "cell_type": "code",
   "execution_count": 32,
   "metadata": {
    "colab": {
     "base_uri": "https://localhost:8080/"
    },
    "id": "LscLsydL0Dg_",
    "outputId": "7ce07901-f7c6-4b85-f373-825dfff84d05"
   },
   "outputs": [
    {
     "name": "stdout",
     "output_type": "stream",
     "text": [
      "+-------------------------------------------------------------+\n",
      "|count(CASE WHEN (TotalCharges IS NULL) THEN TotalCharges END)|\n",
      "+-------------------------------------------------------------+\n",
      "|                                                            0|\n",
      "+-------------------------------------------------------------+\n",
      "\n"
     ]
    }
   ],
   "source": [
    "data.select(count(when(col(\"TotalCharges\").isNull(),'TotalCharges'))).show()"
   ]
  },
  {
   "cell_type": "markdown",
   "metadata": {
    "id": "g9JJoI4_1Ao5"
   },
   "source": [
    "**Removing the outliers** <br>\n",
    "Let's find the customer with the tenure higher than 100 "
   ]
  },
  {
   "cell_type": "code",
   "execution_count": 33,
   "metadata": {
    "colab": {
     "base_uri": "https://localhost:8080/"
    },
    "id": "GuUgYzfM1ICN",
    "outputId": "2ab253ce-9a55-449f-c1c0-c8e8bd12543c"
   },
   "outputs": [
    {
     "name": "stdout",
     "output_type": "stream",
     "text": [
      "+----------+------+-------------+-------+----------+------+------------+-------------+---------------+--------------+------------+----------------+-----------+-----------+---------------+--------------+----------------+----------------+--------------+------------+-----+\n",
      "|customerID|gender|SeniorCitizen|Partner|Dependents|tenure|PhoneService|MultipleLines|InternetService|OnlineSecurity|OnlineBackup|DeviceProtection|TechSupport|StreamingTV|StreamingMovies|      Contract|PaperlessBilling|   PaymentMethod|MonthlyCharges|TotalCharges|Churn|\n",
      "+----------+------+-------------+-------+----------+------+------------+-------------+---------------+--------------+------------+----------------+-----------+-----------+---------------+--------------+----------------+----------------+--------------+------------+-----+\n",
      "|5122-CYFXA|Female|           No|     No|        No|   458|         Yes|           No|            DSL|            No|         Yes|              No|        Yes|        Yes|            Yes|Month-to-month|             Yes|Electronic check|          75.3|       244.1|   No|\n",
      "+----------+------+-------------+-------+----------+------+------------+-------------+---------------+--------------+------------+----------------+-----------+-----------+---------------+--------------+----------------+----------------+--------------+------------+-----+\n",
      "\n"
     ]
    }
   ],
   "source": [
    "data.select(\"*\").where(data.tenure>100).show()"
   ]
  },
  {
   "cell_type": "markdown",
   "metadata": {
    "id": "YcaebVkh2CoU"
   },
   "source": [
    "Let's drop the outlier row"
   ]
  },
  {
   "cell_type": "code",
   "execution_count": 34,
   "metadata": {
    "colab": {
     "base_uri": "https://localhost:8080/"
    },
    "id": "ANT7iLlB2Et5",
    "outputId": "546823e5-cfc3-4b2b-f335-8e5220efedf8"
   },
   "outputs": [
    {
     "name": "stdout",
     "output_type": "stream",
     "text": [
      "Number of rows before filtering out outliers:  7043\n",
      "Number of rows after filtering out outliers:  7042\n"
     ]
    }
   ],
   "source": [
    "print(\"Number of rows before filtering out outliers: \", data.count())\n",
    "data = data.filter(data.tenure <= 100)\n",
    "print(\"Number of rows after filtering out outliers: \", data.count())"
   ]
  },
  {
   "cell_type": "markdown",
   "metadata": {
    "id": "CQMD4VIuPDen"
   },
   "source": [
    "### **Task 4 - Feature Preparation**\n",
    "- Numerical Features \n",
    "    - Vector Assembling\n",
    "    - Numerical Scaling\n",
    "- Categorical Features\n",
    "    - String Indexing\n",
    "    - Vector Assembling\n",
    "\n",
    "- Combining the numerical and categorical feature vectors\n",
    "\n",
    "\n",
    "\n",
    "\n",
    "**Feature Preparation - Numerical Features** <br>\n",
    "\n",
    "`Vector Assembling --> Standard Scaling` <br>\n",
    "\n",
    "**Vector Assembling** <br>\n",
    "To apply our machine learning model we need to combine all of our numerical and categorical features into vectors. For now let's create a feature vector for our numerical columns.\n"
   ]
  },
  {
   "cell_type": "code",
   "execution_count": 35,
   "metadata": {
    "colab": {
     "base_uri": "https://localhost:8080/"
    },
    "id": "7_g7Hu3HPC9Q",
    "outputId": "97777af8-b505-4711-fddd-fbf851c3feca"
   },
   "outputs": [
    {
     "name": "stdout",
     "output_type": "stream",
     "text": [
      "+----------+------+-------------+-------+----------+------+------------+----------------+---------------+--------------+------------+----------------+-----------+-----------+---------------+--------------+----------------+--------------------+--------------+------------+-----+-------------------------+\n",
      "|customerID|gender|SeniorCitizen|Partner|Dependents|tenure|PhoneService|   MultipleLines|InternetService|OnlineSecurity|OnlineBackup|DeviceProtection|TechSupport|StreamingTV|StreamingMovies|      Contract|PaperlessBilling|       PaymentMethod|MonthlyCharges|TotalCharges|Churn|numerical_features_vector|\n",
      "+----------+------+-------------+-------+----------+------+------------+----------------+---------------+--------------+------------+----------------+-----------+-----------+---------------+--------------+----------------+--------------------+--------------+------------+-----+-------------------------+\n",
      "|7590-VHVEG|Female|           No|    Yes|        No|     1|          No|No phone service|            DSL|            No|         Yes|              No|         No|         No|             No|Month-to-month|             Yes|    Electronic check|         29.85|       29.85|   No|        [1.0,29.85,29.85]|\n",
      "|5575-GNVDE|  Male|           No|     No|        No|    34|         Yes|              No|            DSL|           Yes|          No|             Yes|         No|         No|             No|      One year|              No|        Mailed check|         56.95|      1889.5|   No|      [34.0,56.95,1889.5]|\n",
      "|3668-QPYBK|  Male|           No|     No|        No|     2|         Yes|              No|            DSL|           Yes|         Yes|              No|         No|         No|             No|Month-to-month|             Yes|        Mailed check|         53.85|      108.15|  Yes|       [2.0,53.85,108.15]|\n",
      "|7795-CFOCW|  Male|           No|     No|        No|    45|          No|No phone service|            DSL|           Yes|          No|             Yes|        Yes|         No|             No|      One year|              No|Bank transfer (au...|          42.3|     1840.75|   No|      [45.0,42.3,1840.75]|\n",
      "|9237-HQITU|Female|           No|     No|        No|     2|         Yes|              No|    Fiber optic|            No|          No|              No|         No|         No|             No|Month-to-month|             Yes|    Electronic check|          70.7|      151.65|  Yes|        [2.0,70.7,151.65]|\n",
      "+----------+------+-------------+-------+----------+------+------------+----------------+---------------+--------------+------------+----------------+-----------+-----------+---------------+--------------+----------------+--------------------+--------------+------------+-----+-------------------------+\n",
      "only showing top 5 rows\n",
      "\n"
     ]
    }
   ],
   "source": [
    "numerical_vector_assembler = VectorAssembler(inputCols=numerical_features, outputCol=\"numerical_features_vector\")\n",
    "data=numerical_vector_assembler.transform(data)\n",
    "data.show(5)"
   ]
  },
  {
   "cell_type": "markdown",
   "metadata": {
    "id": "U39MK-kfYnpc"
   },
   "source": [
    "**Numerical Scaling** <br>\n",
    "Let's standardize all of our numerical features. "
   ]
  },
  {
   "cell_type": "code",
   "execution_count": 36,
   "metadata": {
    "colab": {
     "base_uri": "https://localhost:8080/"
    },
    "id": "RqvD874WSQEs",
    "outputId": "8ea4e461-a1a1-4f5a-8273-6daa88eeb2d1"
   },
   "outputs": [
    {
     "name": "stdout",
     "output_type": "stream",
     "text": [
      "+----------+------+-------------+-------+----------+------+------------+----------------+---------------+--------------+------------+----------------+-----------+-----------+---------------+--------------+----------------+--------------------+--------------+------------+-----+-------------------------+--------------------------------+\n",
      "|customerID|gender|SeniorCitizen|Partner|Dependents|tenure|PhoneService|   MultipleLines|InternetService|OnlineSecurity|OnlineBackup|DeviceProtection|TechSupport|StreamingTV|StreamingMovies|      Contract|PaperlessBilling|       PaymentMethod|MonthlyCharges|TotalCharges|Churn|numerical_features_vector|scaled_numerical_features_vector|\n",
      "+----------+------+-------------+-------+----------+------+------------+----------------+---------------+--------------+------------+----------------+-----------+-----------+---------------+--------------+----------------+--------------------+--------------+------------+-----+-------------------------+--------------------------------+\n",
      "|7590-VHVEG|Female|           No|    Yes|        No|     1|          No|No phone service|            DSL|            No|         Yes|              No|         No|         No|             No|Month-to-month|             Yes|    Electronic check|         29.85|       29.85|   No|        [1.0,29.85,29.85]|            [-1.2775627682208...|\n",
      "|5575-GNVDE|  Male|           No|     No|        No|    34|         Yes|              No|            DSL|           Yes|          No|             Yes|         No|         No|             No|      One year|              No|        Mailed check|         56.95|      1889.5|   No|      [34.0,56.95,1889.5]|            [0.06615490566075...|\n",
      "|3668-QPYBK|  Male|           No|     No|        No|     2|         Yes|              No|            DSL|           Yes|         Yes|              No|         No|         No|             No|Month-to-month|             Yes|        Mailed check|         53.85|      108.15|  Yes|       [2.0,53.85,108.15]|            [-1.2368440508304...|\n",
      "|7795-CFOCW|  Male|           No|     No|        No|    45|          No|No phone service|            DSL|           Yes|          No|             Yes|        Yes|         No|             No|      One year|              No|Bank transfer (au...|          42.3|     1840.75|   No|      [45.0,42.3,1840.75]|            [0.51406079695460...|\n",
      "|9237-HQITU|Female|           No|     No|        No|     2|         Yes|              No|    Fiber optic|            No|          No|              No|         No|         No|             No|Month-to-month|             Yes|    Electronic check|          70.7|      151.65|  Yes|        [2.0,70.7,151.65]|            [-1.2368440508304...|\n",
      "+----------+------+-------------+-------+----------+------+------------+----------------+---------------+--------------+------------+----------------+-----------+-----------+---------------+--------------+----------------+--------------------+--------------+------------+-----+-------------------------+--------------------------------+\n",
      "only showing top 5 rows\n",
      "\n"
     ]
    }
   ],
   "source": [
    "scaler=StandardScaler(inputCol=\"numerical_features_vector\",outputCol=\"scaled_numerical_features_vector\",withStd=True,withMean=True)\n",
    "data=scaler.fit(data).transform(data)\n",
    "data.show(5)"
   ]
  },
  {
   "cell_type": "markdown",
   "metadata": {
    "id": "KfbVsiv6Z1SM"
   },
   "source": [
    "**Feature Preperation - Categorical Features** <br>\n",
    "\n",
    "`String Indexing --> Vector Assembling` <br>\n",
    "\n",
    "**String Indexing** <br>\n",
    "We need to convert all the string columns to numeric columns."
   ]
  },
  {
   "cell_type": "code",
   "execution_count": 37,
   "metadata": {
    "colab": {
     "base_uri": "https://localhost:8080/"
    },
    "id": "U7xmubmpZ1zo",
    "outputId": "648ec4c6-11e1-4861-d132-b29b414882c4"
   },
   "outputs": [
    {
     "data": {
      "text/plain": [
       "['customerID',\n",
       " 'gender',\n",
       " 'SeniorCitizen',\n",
       " 'Partner',\n",
       " 'Dependents',\n",
       " 'PhoneService',\n",
       " 'MultipleLines',\n",
       " 'InternetService',\n",
       " 'OnlineSecurity',\n",
       " 'OnlineBackup',\n",
       " 'DeviceProtection',\n",
       " 'TechSupport',\n",
       " 'StreamingTV',\n",
       " 'StreamingMovies',\n",
       " 'Contract',\n",
       " 'PaperlessBilling',\n",
       " 'PaymentMethod',\n",
       " 'Churn']"
      ]
     },
     "execution_count": 37,
     "metadata": {},
     "output_type": "execute_result"
    }
   ],
   "source": [
    "categorical_features"
   ]
  },
  {
   "cell_type": "code",
   "execution_count": 38,
   "metadata": {},
   "outputs": [],
   "source": [
    "categorical_features_indexer = [name + \"_index\" for name in categorical_features]"
   ]
  },
  {
   "cell_type": "code",
   "execution_count": 39,
   "metadata": {},
   "outputs": [
    {
     "data": {
      "text/plain": [
       "['customerID_index',\n",
       " 'gender_index',\n",
       " 'SeniorCitizen_index',\n",
       " 'Partner_index',\n",
       " 'Dependents_index',\n",
       " 'PhoneService_index',\n",
       " 'MultipleLines_index',\n",
       " 'InternetService_index',\n",
       " 'OnlineSecurity_index',\n",
       " 'OnlineBackup_index',\n",
       " 'DeviceProtection_index',\n",
       " 'TechSupport_index',\n",
       " 'StreamingTV_index',\n",
       " 'StreamingMovies_index',\n",
       " 'Contract_index',\n",
       " 'PaperlessBilling_index',\n",
       " 'PaymentMethod_index',\n",
       " 'Churn_index']"
      ]
     },
     "execution_count": 39,
     "metadata": {},
     "output_type": "execute_result"
    }
   ],
   "source": [
    "categorical_features_indexer"
   ]
  },
  {
   "cell_type": "code",
   "execution_count": 40,
   "metadata": {},
   "outputs": [
    {
     "name": "stderr",
     "output_type": "stream",
     "text": [
      "24/11/26 19:31:16 WARN SparkStringUtils: Truncated the string representation of a plan since it was too large. This behavior can be adjusted by setting 'spark.sql.debug.maxToStringFields'.\n"
     ]
    },
    {
     "name": "stdout",
     "output_type": "stream",
     "text": [
      "+----------+------+-------------+-------+----------+------+------------+----------------+---------------+--------------+------------+----------------+-----------+-----------+---------------+--------------+----------------+--------------------+--------------+------------+-----+-------------------------+--------------------------------+----------------+------------+-------------------+-------------+----------------+------------------+-------------------+---------------------+--------------------+------------------+----------------------+-----------------+-----------------+---------------------+--------------+----------------------+-------------------+-----------+\n",
      "|customerID|gender|SeniorCitizen|Partner|Dependents|tenure|PhoneService|   MultipleLines|InternetService|OnlineSecurity|OnlineBackup|DeviceProtection|TechSupport|StreamingTV|StreamingMovies|      Contract|PaperlessBilling|       PaymentMethod|MonthlyCharges|TotalCharges|Churn|numerical_features_vector|scaled_numerical_features_vector|customerID_index|gender_index|SeniorCitizen_index|Partner_index|Dependents_index|PhoneService_index|MultipleLines_index|InternetService_index|OnlineSecurity_index|OnlineBackup_index|DeviceProtection_index|TechSupport_index|StreamingTV_index|StreamingMovies_index|Contract_index|PaperlessBilling_index|PaymentMethod_index|Churn_index|\n",
      "+----------+------+-------------+-------+----------+------+------------+----------------+---------------+--------------+------------+----------------+-----------+-----------+---------------+--------------+----------------+--------------------+--------------+------------+-----+-------------------------+--------------------------------+----------------+------------+-------------------+-------------+----------------+------------------+-------------------+---------------------+--------------------+------------------+----------------------+-----------------+-----------------+---------------------+--------------+----------------------+-------------------+-----------+\n",
      "|7590-VHVEG|Female|           No|    Yes|        No|     1|          No|No phone service|            DSL|            No|         Yes|              No|         No|         No|             No|Month-to-month|             Yes|    Electronic check|         29.85|       29.85|   No|        [1.0,29.85,29.85]|            [-1.2775627682208...|          5374.0|         1.0|                0.0|          1.0|             0.0|               1.0|                2.0|                  1.0|                 0.0|               1.0|                   0.0|              0.0|              0.0|                  0.0|           0.0|                   0.0|                0.0|        0.0|\n",
      "|5575-GNVDE|  Male|           No|     No|        No|    34|         Yes|              No|            DSL|           Yes|          No|             Yes|         No|         No|             No|      One year|              No|        Mailed check|         56.95|      1889.5|   No|      [34.0,56.95,1889.5]|            [0.06615490566075...|          3961.0|         0.0|                0.0|          0.0|             0.0|               0.0|                0.0|                  1.0|                 1.0|               0.0|                   1.0|              0.0|              0.0|                  0.0|           2.0|                   1.0|                1.0|        0.0|\n",
      "|3668-QPYBK|  Male|           No|     No|        No|     2|         Yes|              No|            DSL|           Yes|         Yes|              No|         No|         No|             No|Month-to-month|             Yes|        Mailed check|         53.85|      108.15|  Yes|       [2.0,53.85,108.15]|            [-1.2368440508304...|          2564.0|         0.0|                0.0|          0.0|             0.0|               0.0|                0.0|                  1.0|                 1.0|               1.0|                   0.0|              0.0|              0.0|                  0.0|           0.0|                   0.0|                1.0|        1.0|\n",
      "|7795-CFOCW|  Male|           No|     No|        No|    45|          No|No phone service|            DSL|           Yes|          No|             Yes|        Yes|         No|             No|      One year|              No|Bank transfer (au...|          42.3|     1840.75|   No|      [45.0,42.3,1840.75]|            [0.51406079695460...|          5534.0|         0.0|                0.0|          0.0|             0.0|               1.0|                2.0|                  1.0|                 1.0|               0.0|                   1.0|              1.0|              0.0|                  0.0|           2.0|                   1.0|                2.0|        0.0|\n",
      "|9237-HQITU|Female|           No|     No|        No|     2|         Yes|              No|    Fiber optic|            No|          No|              No|         No|         No|             No|Month-to-month|             Yes|    Electronic check|          70.7|      151.65|  Yes|        [2.0,70.7,151.65]|            [-1.2368440508304...|          6510.0|         1.0|                0.0|          0.0|             0.0|               0.0|                0.0|                  0.0|                 0.0|               0.0|                   0.0|              0.0|              0.0|                  0.0|           0.0|                   0.0|                0.0|        1.0|\n",
      "+----------+------+-------------+-------+----------+------+------------+----------------+---------------+--------------+------------+----------------+-----------+-----------+---------------+--------------+----------------+--------------------+--------------+------------+-----+-------------------------+--------------------------------+----------------+------------+-------------------+-------------+----------------+------------------+-------------------+---------------------+--------------------+------------------+----------------------+-----------------+-----------------+---------------------+--------------+----------------------+-------------------+-----------+\n",
      "only showing top 5 rows\n",
      "\n"
     ]
    }
   ],
   "source": [
    "indexer = StringIndexer(inputCols=categorical_features, outputCols=categorical_features_indexer)\n",
    "data = indexer.fit(data).transform(data)\n",
    "data.show(5)"
   ]
  },
  {
   "cell_type": "code",
   "execution_count": 41,
   "metadata": {},
   "outputs": [],
   "source": [
    "categorical_features_indexer.remove(\"Churn_index\")\n",
    "categorical_features_indexer.remove(\"customerID_index\")"
   ]
  },
  {
   "cell_type": "markdown",
   "metadata": {
    "id": "566hiGhl_1m0"
   },
   "source": [
    "Let's combine all of our categorifal features in to one feature vector."
   ]
  },
  {
   "cell_type": "code",
   "execution_count": 42,
   "metadata": {},
   "outputs": [
    {
     "name": "stdout",
     "output_type": "stream",
     "text": [
      "+----------+------+-------------+-------+----------+------+------------+----------------+---------------+--------------+------------+----------------+-----------+-----------+---------------+--------------+----------------+--------------------+--------------+------------+-----+-------------------------+--------------------------------+----------------+------------+-------------------+-------------+----------------+------------------+-------------------+---------------------+--------------------+------------------+----------------------+-----------------+-----------------+---------------------+--------------+----------------------+-------------------+-----------+---------------------------+\n",
      "|customerID|gender|SeniorCitizen|Partner|Dependents|tenure|PhoneService|   MultipleLines|InternetService|OnlineSecurity|OnlineBackup|DeviceProtection|TechSupport|StreamingTV|StreamingMovies|      Contract|PaperlessBilling|       PaymentMethod|MonthlyCharges|TotalCharges|Churn|numerical_features_vector|scaled_numerical_features_vector|customerID_index|gender_index|SeniorCitizen_index|Partner_index|Dependents_index|PhoneService_index|MultipleLines_index|InternetService_index|OnlineSecurity_index|OnlineBackup_index|DeviceProtection_index|TechSupport_index|StreamingTV_index|StreamingMovies_index|Contract_index|PaperlessBilling_index|PaymentMethod_index|Churn_index|categorical_features_vector|\n",
      "+----------+------+-------------+-------+----------+------+------------+----------------+---------------+--------------+------------+----------------+-----------+-----------+---------------+--------------+----------------+--------------------+--------------+------------+-----+-------------------------+--------------------------------+----------------+------------+-------------------+-------------+----------------+------------------+-------------------+---------------------+--------------------+------------------+----------------------+-----------------+-----------------+---------------------+--------------+----------------------+-------------------+-----------+---------------------------+\n",
      "|7590-VHVEG|Female|           No|    Yes|        No|     1|          No|No phone service|            DSL|            No|         Yes|              No|         No|         No|             No|Month-to-month|             Yes|    Electronic check|         29.85|       29.85|   No|        [1.0,29.85,29.85]|            [-1.2775627682208...|          5374.0|         1.0|                0.0|          1.0|             0.0|               1.0|                2.0|                  1.0|                 0.0|               1.0|                   0.0|              0.0|              0.0|                  0.0|           0.0|                   0.0|                0.0|        0.0|       (16,[0,2,4,5,6,8]...|\n",
      "|5575-GNVDE|  Male|           No|     No|        No|    34|         Yes|              No|            DSL|           Yes|          No|             Yes|         No|         No|             No|      One year|              No|        Mailed check|         56.95|      1889.5|   No|      [34.0,56.95,1889.5]|            [0.06615490566075...|          3961.0|         0.0|                0.0|          0.0|             0.0|               0.0|                0.0|                  1.0|                 1.0|               0.0|                   1.0|              0.0|              0.0|                  0.0|           2.0|                   1.0|                1.0|        0.0|       (16,[6,7,9,13,14,...|\n",
      "|3668-QPYBK|  Male|           No|     No|        No|     2|         Yes|              No|            DSL|           Yes|         Yes|              No|         No|         No|             No|Month-to-month|             Yes|        Mailed check|         53.85|      108.15|  Yes|       [2.0,53.85,108.15]|            [-1.2368440508304...|          2564.0|         0.0|                0.0|          0.0|             0.0|               0.0|                0.0|                  1.0|                 1.0|               1.0|                   0.0|              0.0|              0.0|                  0.0|           0.0|                   0.0|                1.0|        1.0|       (16,[6,7,8,15],[1...|\n",
      "|7795-CFOCW|  Male|           No|     No|        No|    45|          No|No phone service|            DSL|           Yes|          No|             Yes|        Yes|         No|             No|      One year|              No|Bank transfer (au...|          42.3|     1840.75|   No|      [45.0,42.3,1840.75]|            [0.51406079695460...|          5534.0|         0.0|                0.0|          0.0|             0.0|               1.0|                2.0|                  1.0|                 1.0|               0.0|                   1.0|              1.0|              0.0|                  0.0|           2.0|                   1.0|                2.0|        0.0|       (16,[4,5,6,7,9,10...|\n",
      "|9237-HQITU|Female|           No|     No|        No|     2|         Yes|              No|    Fiber optic|            No|          No|              No|         No|         No|             No|Month-to-month|             Yes|    Electronic check|          70.7|      151.65|  Yes|        [2.0,70.7,151.65]|            [-1.2368440508304...|          6510.0|         1.0|                0.0|          0.0|             0.0|               0.0|                0.0|                  0.0|                 0.0|               0.0|                   0.0|              0.0|              0.0|                  0.0|           0.0|                   0.0|                0.0|        1.0|             (16,[0],[1.0])|\n",
      "+----------+------+-------------+-------+----------+------+------------+----------------+---------------+--------------+------------+----------------+-----------+-----------+---------------+--------------+----------------+--------------------+--------------+------------+-----+-------------------------+--------------------------------+----------------+------------+-------------------+-------------+----------------+------------------+-------------------+---------------------+--------------------+------------------+----------------------+-----------------+-----------------+---------------------+--------------+----------------------+-------------------+-----------+---------------------------+\n",
      "only showing top 5 rows\n",
      "\n"
     ]
    }
   ],
   "source": [
    "categorical_vector_assembler = VectorAssembler(inputCols=categorical_features_indexer, outputCol=\"categorical_features_vector\")\n",
    "data = categorical_vector_assembler.transform(data)\n",
    "data.show(5)"
   ]
  },
  {
   "cell_type": "markdown",
   "metadata": {
    "id": "4G0bVH-vALJt"
   },
   "source": [
    "Now let's combine categorical and numerical feature vectors."
   ]
  },
  {
   "cell_type": "code",
   "execution_count": null,
   "metadata": {
    "colab": {
     "base_uri": "https://localhost:8080/"
    },
    "id": "UrsFk-CZZgrV",
    "outputId": "0d36be9b-0157-4f42-e115-8da195881620"
   },
   "outputs": [
    {
     "name": "stdout",
     "output_type": "stream",
     "text": [
      "+----------------------+-----------+\n",
      "|Final_features_vectors|Churn_index|\n",
      "+----------------------+-----------+\n",
      "|  (19,[0,1,2,3,5,7,...|        0.0|\n",
      "|  (19,[0,1,2,9,10,1...|        0.0|\n",
      "|  (19,[0,1,2,9,10,1...|        1.0|\n",
      "|  [0.51406079695460...|        0.0|\n",
      "|  (19,[0,1,2,3],[-1...|        1.0|\n",
      "+----------------------+-----------+\n",
      "only showing top 5 rows\n",
      "\n"
     ]
    }
   ],
   "source": [
    "final_vector_assembler = VectorAssembler(inputCols=[\"scaled_numerical_features_vector\", \"categorical_features_vector\"], outputCol=\"Final_features_vectors\")\n",
    "data = final_vector_assembler.transform(data)\n",
    "\n",
    "data.select([\"Final_features_vectors\",\"Churn_index\"]).show(5)"
   ]
  },
  {
   "cell_type": "code",
   "execution_count": 44,
   "metadata": {},
   "outputs": [
    {
     "name": "stdout",
     "output_type": "stream",
     "text": [
      "root\n",
      " |-- customerID: string (nullable = true)\n",
      " |-- gender: string (nullable = true)\n",
      " |-- SeniorCitizen: string (nullable = true)\n",
      " |-- Partner: string (nullable = true)\n",
      " |-- Dependents: string (nullable = true)\n",
      " |-- tenure: integer (nullable = true)\n",
      " |-- PhoneService: string (nullable = true)\n",
      " |-- MultipleLines: string (nullable = true)\n",
      " |-- InternetService: string (nullable = true)\n",
      " |-- OnlineSecurity: string (nullable = true)\n",
      " |-- OnlineBackup: string (nullable = true)\n",
      " |-- DeviceProtection: string (nullable = true)\n",
      " |-- TechSupport: string (nullable = true)\n",
      " |-- StreamingTV: string (nullable = true)\n",
      " |-- StreamingMovies: string (nullable = true)\n",
      " |-- Contract: string (nullable = true)\n",
      " |-- PaperlessBilling: string (nullable = true)\n",
      " |-- PaymentMethod: string (nullable = true)\n",
      " |-- MonthlyCharges: double (nullable = true)\n",
      " |-- TotalCharges: double (nullable = true)\n",
      " |-- Churn: string (nullable = true)\n",
      " |-- numerical_features_vector: vector (nullable = true)\n",
      " |-- scaled_numerical_features_vector: vector (nullable = true)\n",
      " |-- customerID_index: double (nullable = false)\n",
      " |-- gender_index: double (nullable = false)\n",
      " |-- SeniorCitizen_index: double (nullable = false)\n",
      " |-- Partner_index: double (nullable = false)\n",
      " |-- Dependents_index: double (nullable = false)\n",
      " |-- PhoneService_index: double (nullable = false)\n",
      " |-- MultipleLines_index: double (nullable = false)\n",
      " |-- InternetService_index: double (nullable = false)\n",
      " |-- OnlineSecurity_index: double (nullable = false)\n",
      " |-- OnlineBackup_index: double (nullable = false)\n",
      " |-- DeviceProtection_index: double (nullable = false)\n",
      " |-- TechSupport_index: double (nullable = false)\n",
      " |-- StreamingTV_index: double (nullable = false)\n",
      " |-- StreamingMovies_index: double (nullable = false)\n",
      " |-- Contract_index: double (nullable = false)\n",
      " |-- PaperlessBilling_index: double (nullable = false)\n",
      " |-- PaymentMethod_index: double (nullable = false)\n",
      " |-- Churn_index: double (nullable = false)\n",
      " |-- categorical_features_vector: vector (nullable = true)\n",
      " |-- Final_features_vectors: vector (nullable = true)\n",
      "\n"
     ]
    }
   ],
   "source": [
    "from pyspark.ml.linalg import VectorUDT\n",
    "\n",
    "data.printSchema()  # Verifica los tipos de las columnas\n",
    "\n",
    "# Si alguna columna no es del tipo VectorUDT, deberías asegurarte de transformarlas adecuadamente\n"
   ]
  },
  {
   "cell_type": "markdown",
   "metadata": {
    "id": "_og11F0MdrYE"
   },
   "source": [
    "### **Task 5 - Model Training**\n",
    "- Train and Test data splitting \n",
    "- Creating our model \n",
    "- Training our model \n",
    "- Make initial predictions using our model\n",
    "\n",
    "In this task, we are going to start training our model"
   ]
  },
  {
   "cell_type": "code",
   "execution_count": 45,
   "metadata": {
    "colab": {
     "base_uri": "https://localhost:8080/"
    },
    "id": "8VFwkblddkdV",
    "outputId": "bde88d04-2ed7-43a2-9e6b-d343e6b6e81b"
   },
   "outputs": [
    {
     "data": {
      "text/plain": [
       "(4930, 2112)"
      ]
     },
     "execution_count": 45,
     "metadata": {},
     "output_type": "execute_result"
    }
   ],
   "source": [
    "train, test = data.randomSplit([0.7, 0.3],seed=100)\n",
    "train.count(), test.count()"
   ]
  },
  {
   "cell_type": "markdown",
   "metadata": {
    "id": "aiAJrl8oEKIk"
   },
   "source": [
    "Now let's create and train our desicion tree"
   ]
  },
  {
   "cell_type": "code",
   "execution_count": 46,
   "metadata": {
    "id": "bObhrM_4nKCf"
   },
   "outputs": [
    {
     "name": "stdout",
     "output_type": "stream",
     "text": [
      "+----------+------+-------------+-------+----------+------+------------+-------------+---------------+--------------+------------+----------------+-----------+-----------+---------------+--------------+----------------+--------------------+--------------+------------+-----+-------------------------+--------------------------------+----------------+------------+-------------------+-------------+----------------+------------------+-------------------+---------------------+--------------------+------------------+----------------------+-----------------+-----------------+---------------------+--------------+----------------------+-------------------+-----------+---------------------------+----------------------+\n",
      "|customerID|gender|SeniorCitizen|Partner|Dependents|tenure|PhoneService|MultipleLines|InternetService|OnlineSecurity|OnlineBackup|DeviceProtection|TechSupport|StreamingTV|StreamingMovies|      Contract|PaperlessBilling|       PaymentMethod|MonthlyCharges|TotalCharges|Churn|numerical_features_vector|scaled_numerical_features_vector|customerID_index|gender_index|SeniorCitizen_index|Partner_index|Dependents_index|PhoneService_index|MultipleLines_index|InternetService_index|OnlineSecurity_index|OnlineBackup_index|DeviceProtection_index|TechSupport_index|StreamingTV_index|StreamingMovies_index|Contract_index|PaperlessBilling_index|PaymentMethod_index|Churn_index|categorical_features_vector|Final_features_vectors|\n",
      "+----------+------+-------------+-------+----------+------+------------+-------------+---------------+--------------+------------+----------------+-----------+-----------+---------------+--------------+----------------+--------------------+--------------+------------+-----+-------------------------+--------------------------------+----------------+------------+-------------------+-------------+----------------+------------------+-------------------+---------------------+--------------------+------------------+----------------------+-----------------+-----------------+---------------------+--------------+----------------------+-------------------+-----------+---------------------------+----------------------+\n",
      "|0002-ORFBO|Female|           No|    Yes|       Yes|     9|         Yes|           No|            DSL|            No|         Yes|              No|        Yes|        Yes|             No|      One year|             Yes|        Mailed check|          65.6|       593.3|   No|         [9.0,65.6,593.3]|            [-0.9518130290980...|             0.0|         1.0|                0.0|          1.0|             1.0|               0.0|                0.0|                  1.0|                 0.0|               1.0|                   0.0|              1.0|              1.0|                  0.0|           2.0|                   0.0|                1.0|        0.0|       (16,[0,2,3,6,8,10...|  [-0.9518130290980...|\n",
      "|0003-MKNFE|  Male|           No|     No|        No|     9|         Yes|          Yes|            DSL|            No|          No|              No|         No|         No|            Yes|Month-to-month|              No|        Mailed check|          59.9|       542.4|   No|         [9.0,59.9,542.4]|            [-0.9518130290980...|             1.0|         0.0|                0.0|          0.0|             0.0|               0.0|                1.0|                  1.0|                 0.0|               0.0|                   0.0|              0.0|              0.0|                  1.0|           0.0|                   1.0|                1.0|        0.0|       (16,[5,6,12,14,15...|  (19,[0,1,2,8,9,15...|\n",
      "|0004-TLHLJ|  Male|           No|     No|        No|     4|         Yes|           No|    Fiber optic|            No|          No|             Yes|         No|         No|             No|Month-to-month|             Yes|    Electronic check|          73.9|      280.85|  Yes|        [4.0,73.9,280.85]|            [-1.1554066160497...|             2.0|         0.0|                0.0|          0.0|             0.0|               0.0|                0.0|                  0.0|                 0.0|               0.0|                   1.0|              0.0|              0.0|                  0.0|           0.0|                   0.0|                0.0|        1.0|             (16,[9],[1.0])|  (19,[0,1,2,12],[-...|\n",
      "|0013-EXCHZ|Female|          Yes|    Yes|        No|     3|         Yes|           No|    Fiber optic|            No|          No|              No|        Yes|        Yes|             No|Month-to-month|             Yes|        Mailed check|          83.9|       267.4|  Yes|         [3.0,83.9,267.4]|            [-1.1961253334401...|             4.0|         1.0|                1.0|          1.0|             0.0|               0.0|                0.0|                  0.0|                 0.0|               0.0|                   0.0|              1.0|              1.0|                  0.0|           0.0|                   0.0|                1.0|        1.0|       (16,[0,1,2,10,11,...|  (19,[0,1,2,3,4,5,...|\n",
      "|0013-MHZWF|Female|           No|     No|       Yes|     9|         Yes|           No|            DSL|            No|          No|              No|        Yes|        Yes|            Yes|Month-to-month|             Yes|Credit card (auto...|          69.4|      571.45|   No|        [9.0,69.4,571.45]|            [-0.9518130290980...|             5.0|         1.0|                0.0|          0.0|             1.0|               0.0|                0.0|                  1.0|                 0.0|               0.0|                   0.0|              1.0|              1.0|                  1.0|           0.0|                   0.0|                3.0|        0.0|       (16,[0,3,6,10,11,...|  (19,[0,1,2,3,6,9,...|\n",
      "|0013-SMEOE|Female|          Yes|    Yes|        No|    71|         Yes|           No|    Fiber optic|           Yes|         Yes|             Yes|        Yes|        Yes|            Yes|      Two year|             Yes|Bank transfer (au...|         109.7|     7904.25|   No|     [71.0,109.7,7904.25]|            [1.57274744910371...|             6.0|         1.0|                1.0|          1.0|             0.0|               0.0|                0.0|                  0.0|                 1.0|               1.0|                   1.0|              1.0|              1.0|                  1.0|           1.0|                   0.0|                2.0|        0.0|       [1.0,1.0,1.0,0.0,...|  [1.57274744910371...|\n",
      "|0014-BMAQU|  Male|           No|    Yes|        No|    63|         Yes|          Yes|    Fiber optic|           Yes|          No|              No|        Yes|         No|             No|      Two year|             Yes|Credit card (auto...|         84.65|      5377.8|   No|      [63.0,84.65,5377.8]|            [1.24699770998091...|             7.0|         0.0|                0.0|          1.0|             0.0|               0.0|                1.0|                  0.0|                 1.0|               0.0|                   0.0|              1.0|              0.0|                  0.0|           1.0|                   0.0|                3.0|        0.0|       (16,[2,5,7,10,13,...|  (19,[0,1,2,5,8,10...|\n",
      "|0015-UOCOJ|Female|          Yes|     No|        No|     7|         Yes|           No|            DSL|           Yes|          No|              No|         No|         No|             No|Month-to-month|             Yes|    Electronic check|          48.2|      340.35|   No|        [7.0,48.2,340.35]|            [-1.0332504638787...|             8.0|         1.0|                1.0|          0.0|             0.0|               0.0|                0.0|                  1.0|                 1.0|               0.0|                   0.0|              0.0|              0.0|                  0.0|           0.0|                   0.0|                0.0|        0.0|       (16,[0,1,6,7],[1....|  (19,[0,1,2,3,4,9,...|\n",
      "|0016-QLJIS|Female|           No|    Yes|       Yes|    65|         Yes|          Yes|            DSL|           Yes|         Yes|             Yes|        Yes|        Yes|            Yes|      Two year|             Yes|        Mailed check|         90.45|      5957.9|   No|      [65.0,90.45,5957.9]|            [1.32843514476161...|             9.0|         1.0|                0.0|          1.0|             1.0|               0.0|                1.0|                  1.0|                 1.0|               1.0|                   1.0|              1.0|              1.0|                  1.0|           1.0|                   0.0|                1.0|        0.0|       [1.0,0.0,1.0,1.0,...|  [1.32843514476161...|\n",
      "|0018-NYROU|Female|           No|    Yes|        No|     5|         Yes|           No|    Fiber optic|            No|          No|              No|         No|         No|             No|Month-to-month|             Yes|    Electronic check|         68.95|       351.5|   No|        [5.0,68.95,351.5]|            [-1.1146878986594...|            12.0|         1.0|                0.0|          1.0|             0.0|               0.0|                0.0|                  0.0|                 0.0|               0.0|                   0.0|              0.0|              0.0|                  0.0|           0.0|                   0.0|                0.0|        0.0|       (16,[0,2],[1.0,1.0])|  (19,[0,1,2,3,5],[...|\n",
      "+----------+------+-------------+-------+----------+------+------------+-------------+---------------+--------------+------------+----------------+-----------+-----------+---------------+--------------+----------------+--------------------+--------------+------------+-----+-------------------------+--------------------------------+----------------+------------+-------------------+-------------+----------------+------------------+-------------------+---------------------+--------------------+------------------+----------------------+-----------------+-----------------+---------------------+--------------+----------------------+-------------------+-----------+---------------------------+----------------------+\n",
      "only showing top 10 rows\n",
      "\n"
     ]
    }
   ],
   "source": [
    "train.show(10)"
   ]
  },
  {
   "cell_type": "code",
   "execution_count": 47,
   "metadata": {},
   "outputs": [],
   "source": [
    "dt=DecisionTreeClassifier(featuresCol=\"Final_features_vectors\",labelCol=\"Churn_index\",maxDepth=3)\n",
    "model=dt.fit(train)"
   ]
  },
  {
   "cell_type": "markdown",
   "metadata": {
    "id": "cy_-7W2LEO9j"
   },
   "source": [
    "Let's make predictions on our test data"
   ]
  },
  {
   "cell_type": "code",
   "execution_count": 48,
   "metadata": {
    "colab": {
     "base_uri": "https://localhost:8080/"
    },
    "id": "AqU9-y6dEOqq",
    "outputId": "67be60e9-f5c5-4f39-fcfb-1ff153ecff22"
   },
   "outputs": [
    {
     "name": "stdout",
     "output_type": "stream",
     "text": [
      "+-----+-----------+----------+\n",
      "|churn|Churn_index|prediction|\n",
      "+-----+-----------+----------+\n",
      "|  Yes|        1.0|       1.0|\n",
      "|   No|        0.0|       0.0|\n",
      "|   No|        0.0|       0.0|\n",
      "|   No|        0.0|       0.0|\n",
      "|   No|        0.0|       0.0|\n",
      "|  Yes|        1.0|       0.0|\n",
      "|   No|        0.0|       0.0|\n",
      "|  Yes|        1.0|       0.0|\n",
      "|   No|        0.0|       0.0|\n",
      "|   No|        0.0|       0.0|\n",
      "+-----+-----------+----------+\n",
      "only showing top 10 rows\n",
      "\n"
     ]
    }
   ],
   "source": [
    "predictions_test=model.transform(test)\n",
    "predictions_test.select(\"churn\",\"Churn_index\",\"prediction\").show(10)"
   ]
  },
  {
   "cell_type": "markdown",
   "metadata": {
    "id": "sZXX1rqz8hoT"
   },
   "source": [
    "### **Task 6 - Model Evaluation**\n",
    "- Calculating area under the ROC curve for the `test` set \n",
    "- Calculating area under the ROC curve for the `training` set \n",
    "- Hyper parameter tuning"
   ]
  },
  {
   "cell_type": "code",
   "execution_count": 49,
   "metadata": {
    "colab": {
     "base_uri": "https://localhost:8080/"
    },
    "id": "V8Ldw-rno18o",
    "outputId": "57f300dc-9763-4817-c5e2-a107456061cc"
   },
   "outputs": [
    {
     "data": {
      "text/plain": [
       "0.7678230877272001"
      ]
     },
     "execution_count": 49,
     "metadata": {},
     "output_type": "execute_result"
    }
   ],
   "source": [
    "evaluator=BinaryClassificationEvaluator(labelCol=\"Churn_index\",metricName=\"areaUnderROC\")\n",
    "auc_test=evaluator.evaluate(predictions_test,{evaluator.metricName:\"areaUnderROC\"})\n",
    "auc_test"
   ]
  },
  {
   "cell_type": "markdown",
   "metadata": {
    "id": "nXpG_p4BGEhq"
   },
   "source": [
    "Let's get the AUC for our `training` set"
   ]
  },
  {
   "cell_type": "code",
   "execution_count": 50,
   "metadata": {
    "colab": {
     "base_uri": "https://localhost:8080/"
    },
    "id": "LVkrmoC8GErZ",
    "outputId": "7446fa6f-7d62-411f-bf7b-16f2dd2c35fa"
   },
   "outputs": [
    {
     "data": {
      "text/plain": [
       "0.7721112330375414"
      ]
     },
     "execution_count": 50,
     "metadata": {},
     "output_type": "execute_result"
    }
   ],
   "source": [
    "predictions_train=model.transform(train)\n",
    "auc_train=evaluator.evaluate(predictions_train,{evaluator.metricName:\"areaUnderROC\"})\n",
    "auc_train"
   ]
  },
  {
   "cell_type": "markdown",
   "metadata": {
    "id": "HH4ZH3yFHbvS"
   },
   "source": [
    "**Hyper parameter tuning**\n",
    "\n",
    "Let's find the best `maxDepth` parameter for our DT model. "
   ]
  },
  {
   "cell_type": "code",
   "execution_count": null,
   "metadata": {
    "id": "CwkzV8xLHNlE"
   },
   "outputs": [],
   "source": [
    "def evaluate_dt(mode_params):\n",
    "      test_accuracies = []\n",
    "      train_accuracies = []\n",
    "\n",
    "      for maxD in mode_params:\n",
    "        # train the model based on the maxD\n",
    "        decision_tree = DecisionTreeClassifier(featuresCol = 'Final_features_vectors', labelCol = 'Churn_index', maxDepth = maxD)\n",
    "        dtModel = decision_tree.fit(train)\n",
    "\n",
    "        # calculating test error\n",
    "        predictions_test = dtModel.transform(test)\n",
    "        evaluator = BinaryClassificationEvaluator(labelCol=\"Churn_index\")\n",
    "        auc_test = evaluator.evaluate(predictions_test, {evaluator.metricName: \"areaUnderROC\"})\n",
    "        # recording the accuracy\n",
    "        test_accuracies.append(auc_test)\n",
    "\n",
    "        # calculating training error\n",
    "        predictions_training = dtModel.transform(train)\n",
    "        evaluator = BinaryClassificationEvaluator(labelCol=\"Churn_index\")\n",
    "        auc_training = evaluator.evaluate(predictions_training, {evaluator.metricName: \"areaUnderROC\"})\n",
    "        train_accuracies.append(auc_training)\n",
    "\n",
    "      return(test_accuracies, train_accuracies)"
   ]
  },
  {
   "cell_type": "markdown",
   "metadata": {
    "id": "37QrYjWvcE4Z"
   },
   "source": [
    "Let's define `params` list to evaluate our model iteratively with differe maxDepth parameter.  "
   ]
  },
  {
   "cell_type": "code",
   "execution_count": 54,
   "metadata": {
    "colab": {
     "base_uri": "https://localhost:8080/"
    },
    "id": "6rVz17-jIoVC",
    "outputId": "0a4f788a-d1b9-4862-fe75-12723cf56f31"
   },
   "outputs": [
    {
     "name": "stdout",
     "output_type": "stream",
     "text": [
      "[0.7678230877272001, 0.5664944085244075, 0.7459929239831928, 0.7386656315374632, 0.7710641878878031, 0.7483486330960832, 0.718568321490586, 0.7003988408133272, 0.6919692542921316, 0.683878652830703]\n",
      "[0.7721112330375414, 0.5647403286677019, 0.7600923189684357, 0.785827435281247, 0.8631097062703353, 0.9232336695945687, 0.9524972983474892, 0.9768541758042003, 0.9863893831727073, 0.9903592072150799]\n"
     ]
    }
   ],
   "source": [
    "maxDepths = [3, 5, 7, 9, 11, 13, 15,17,19,21]\n",
    "test_accuracies, train_accuracies = evaluate_dt(maxDepths)\n",
    "print(test_accuracies)\n",
    "print(train_accuracies)"
   ]
  },
  {
   "cell_type": "markdown",
   "metadata": {
    "id": "3uBlqQ2-cWCm"
   },
   "source": [
    "Let's visualize our results"
   ]
  },
  {
   "cell_type": "code",
   "execution_count": 55,
   "metadata": {
    "colab": {
     "base_uri": "https://localhost:8080/",
     "height": 542
    },
    "id": "PqFqOfKvJATk",
    "outputId": "6241d01a-cfad-4fcc-8e8f-eaf83a6cd3f5"
   },
   "outputs": [
    {
     "data": {
      "application/vnd.plotly.v1+json": {
       "config": {
        "plotlyServerURL": "https://plot.ly"
       },
       "data": [
        {
         "hovertemplate": "variable=test_accuracies<br>maxDepths=%{x}<br>value=%{y}<extra></extra>",
         "legendgroup": "test_accuracies",
         "line": {
          "color": "#636efa",
          "dash": "solid"
         },
         "marker": {
          "symbol": "circle"
         },
         "mode": "lines",
         "name": "test_accuracies",
         "orientation": "v",
         "showlegend": true,
         "type": "scatter",
         "x": [
          3,
          5,
          7,
          9,
          11,
          13,
          15,
          17,
          19,
          21
         ],
         "xaxis": "x",
         "y": [
          0.7678230877272001,
          0.5664944085244075,
          0.7459929239831928,
          0.7386656315374632,
          0.7710641878878031,
          0.7483486330960832,
          0.718568321490586,
          0.7003988408133272,
          0.6919692542921316,
          0.683878652830703
         ],
         "yaxis": "y"
        },
        {
         "hovertemplate": "variable=train_accuracies<br>maxDepths=%{x}<br>value=%{y}<extra></extra>",
         "legendgroup": "train_accuracies",
         "line": {
          "color": "#EF553B",
          "dash": "solid"
         },
         "marker": {
          "symbol": "circle"
         },
         "mode": "lines",
         "name": "train_accuracies",
         "orientation": "v",
         "showlegend": true,
         "type": "scatter",
         "x": [
          3,
          5,
          7,
          9,
          11,
          13,
          15,
          17,
          19,
          21
         ],
         "xaxis": "x",
         "y": [
          0.7721112330375414,
          0.5647403286677019,
          0.7600923189684357,
          0.785827435281247,
          0.8631097062703353,
          0.9232336695945687,
          0.9524972983474892,
          0.9768541758042003,
          0.9863893831727073,
          0.9903592072150799
         ],
         "yaxis": "y"
        }
       ],
       "layout": {
        "legend": {
         "title": {
          "text": "variable"
         },
         "tracegroupgap": 0
        },
        "template": {
         "data": {
          "bar": [
           {
            "error_x": {
             "color": "#2a3f5f"
            },
            "error_y": {
             "color": "#2a3f5f"
            },
            "marker": {
             "line": {
              "color": "#E5ECF6",
              "width": 0.5
             },
             "pattern": {
              "fillmode": "overlay",
              "size": 10,
              "solidity": 0.2
             }
            },
            "type": "bar"
           }
          ],
          "barpolar": [
           {
            "marker": {
             "line": {
              "color": "#E5ECF6",
              "width": 0.5
             },
             "pattern": {
              "fillmode": "overlay",
              "size": 10,
              "solidity": 0.2
             }
            },
            "type": "barpolar"
           }
          ],
          "carpet": [
           {
            "aaxis": {
             "endlinecolor": "#2a3f5f",
             "gridcolor": "white",
             "linecolor": "white",
             "minorgridcolor": "white",
             "startlinecolor": "#2a3f5f"
            },
            "baxis": {
             "endlinecolor": "#2a3f5f",
             "gridcolor": "white",
             "linecolor": "white",
             "minorgridcolor": "white",
             "startlinecolor": "#2a3f5f"
            },
            "type": "carpet"
           }
          ],
          "choropleth": [
           {
            "colorbar": {
             "outlinewidth": 0,
             "ticks": ""
            },
            "type": "choropleth"
           }
          ],
          "contour": [
           {
            "colorbar": {
             "outlinewidth": 0,
             "ticks": ""
            },
            "colorscale": [
             [
              0,
              "#0d0887"
             ],
             [
              0.1111111111111111,
              "#46039f"
             ],
             [
              0.2222222222222222,
              "#7201a8"
             ],
             [
              0.3333333333333333,
              "#9c179e"
             ],
             [
              0.4444444444444444,
              "#bd3786"
             ],
             [
              0.5555555555555556,
              "#d8576b"
             ],
             [
              0.6666666666666666,
              "#ed7953"
             ],
             [
              0.7777777777777778,
              "#fb9f3a"
             ],
             [
              0.8888888888888888,
              "#fdca26"
             ],
             [
              1,
              "#f0f921"
             ]
            ],
            "type": "contour"
           }
          ],
          "contourcarpet": [
           {
            "colorbar": {
             "outlinewidth": 0,
             "ticks": ""
            },
            "type": "contourcarpet"
           }
          ],
          "heatmap": [
           {
            "colorbar": {
             "outlinewidth": 0,
             "ticks": ""
            },
            "colorscale": [
             [
              0,
              "#0d0887"
             ],
             [
              0.1111111111111111,
              "#46039f"
             ],
             [
              0.2222222222222222,
              "#7201a8"
             ],
             [
              0.3333333333333333,
              "#9c179e"
             ],
             [
              0.4444444444444444,
              "#bd3786"
             ],
             [
              0.5555555555555556,
              "#d8576b"
             ],
             [
              0.6666666666666666,
              "#ed7953"
             ],
             [
              0.7777777777777778,
              "#fb9f3a"
             ],
             [
              0.8888888888888888,
              "#fdca26"
             ],
             [
              1,
              "#f0f921"
             ]
            ],
            "type": "heatmap"
           }
          ],
          "heatmapgl": [
           {
            "colorbar": {
             "outlinewidth": 0,
             "ticks": ""
            },
            "colorscale": [
             [
              0,
              "#0d0887"
             ],
             [
              0.1111111111111111,
              "#46039f"
             ],
             [
              0.2222222222222222,
              "#7201a8"
             ],
             [
              0.3333333333333333,
              "#9c179e"
             ],
             [
              0.4444444444444444,
              "#bd3786"
             ],
             [
              0.5555555555555556,
              "#d8576b"
             ],
             [
              0.6666666666666666,
              "#ed7953"
             ],
             [
              0.7777777777777778,
              "#fb9f3a"
             ],
             [
              0.8888888888888888,
              "#fdca26"
             ],
             [
              1,
              "#f0f921"
             ]
            ],
            "type": "heatmapgl"
           }
          ],
          "histogram": [
           {
            "marker": {
             "pattern": {
              "fillmode": "overlay",
              "size": 10,
              "solidity": 0.2
             }
            },
            "type": "histogram"
           }
          ],
          "histogram2d": [
           {
            "colorbar": {
             "outlinewidth": 0,
             "ticks": ""
            },
            "colorscale": [
             [
              0,
              "#0d0887"
             ],
             [
              0.1111111111111111,
              "#46039f"
             ],
             [
              0.2222222222222222,
              "#7201a8"
             ],
             [
              0.3333333333333333,
              "#9c179e"
             ],
             [
              0.4444444444444444,
              "#bd3786"
             ],
             [
              0.5555555555555556,
              "#d8576b"
             ],
             [
              0.6666666666666666,
              "#ed7953"
             ],
             [
              0.7777777777777778,
              "#fb9f3a"
             ],
             [
              0.8888888888888888,
              "#fdca26"
             ],
             [
              1,
              "#f0f921"
             ]
            ],
            "type": "histogram2d"
           }
          ],
          "histogram2dcontour": [
           {
            "colorbar": {
             "outlinewidth": 0,
             "ticks": ""
            },
            "colorscale": [
             [
              0,
              "#0d0887"
             ],
             [
              0.1111111111111111,
              "#46039f"
             ],
             [
              0.2222222222222222,
              "#7201a8"
             ],
             [
              0.3333333333333333,
              "#9c179e"
             ],
             [
              0.4444444444444444,
              "#bd3786"
             ],
             [
              0.5555555555555556,
              "#d8576b"
             ],
             [
              0.6666666666666666,
              "#ed7953"
             ],
             [
              0.7777777777777778,
              "#fb9f3a"
             ],
             [
              0.8888888888888888,
              "#fdca26"
             ],
             [
              1,
              "#f0f921"
             ]
            ],
            "type": "histogram2dcontour"
           }
          ],
          "mesh3d": [
           {
            "colorbar": {
             "outlinewidth": 0,
             "ticks": ""
            },
            "type": "mesh3d"
           }
          ],
          "parcoords": [
           {
            "line": {
             "colorbar": {
              "outlinewidth": 0,
              "ticks": ""
             }
            },
            "type": "parcoords"
           }
          ],
          "pie": [
           {
            "automargin": true,
            "type": "pie"
           }
          ],
          "scatter": [
           {
            "fillpattern": {
             "fillmode": "overlay",
             "size": 10,
             "solidity": 0.2
            },
            "type": "scatter"
           }
          ],
          "scatter3d": [
           {
            "line": {
             "colorbar": {
              "outlinewidth": 0,
              "ticks": ""
             }
            },
            "marker": {
             "colorbar": {
              "outlinewidth": 0,
              "ticks": ""
             }
            },
            "type": "scatter3d"
           }
          ],
          "scattercarpet": [
           {
            "marker": {
             "colorbar": {
              "outlinewidth": 0,
              "ticks": ""
             }
            },
            "type": "scattercarpet"
           }
          ],
          "scattergeo": [
           {
            "marker": {
             "colorbar": {
              "outlinewidth": 0,
              "ticks": ""
             }
            },
            "type": "scattergeo"
           }
          ],
          "scattergl": [
           {
            "marker": {
             "colorbar": {
              "outlinewidth": 0,
              "ticks": ""
             }
            },
            "type": "scattergl"
           }
          ],
          "scattermapbox": [
           {
            "marker": {
             "colorbar": {
              "outlinewidth": 0,
              "ticks": ""
             }
            },
            "type": "scattermapbox"
           }
          ],
          "scatterpolar": [
           {
            "marker": {
             "colorbar": {
              "outlinewidth": 0,
              "ticks": ""
             }
            },
            "type": "scatterpolar"
           }
          ],
          "scatterpolargl": [
           {
            "marker": {
             "colorbar": {
              "outlinewidth": 0,
              "ticks": ""
             }
            },
            "type": "scatterpolargl"
           }
          ],
          "scatterternary": [
           {
            "marker": {
             "colorbar": {
              "outlinewidth": 0,
              "ticks": ""
             }
            },
            "type": "scatterternary"
           }
          ],
          "surface": [
           {
            "colorbar": {
             "outlinewidth": 0,
             "ticks": ""
            },
            "colorscale": [
             [
              0,
              "#0d0887"
             ],
             [
              0.1111111111111111,
              "#46039f"
             ],
             [
              0.2222222222222222,
              "#7201a8"
             ],
             [
              0.3333333333333333,
              "#9c179e"
             ],
             [
              0.4444444444444444,
              "#bd3786"
             ],
             [
              0.5555555555555556,
              "#d8576b"
             ],
             [
              0.6666666666666666,
              "#ed7953"
             ],
             [
              0.7777777777777778,
              "#fb9f3a"
             ],
             [
              0.8888888888888888,
              "#fdca26"
             ],
             [
              1,
              "#f0f921"
             ]
            ],
            "type": "surface"
           }
          ],
          "table": [
           {
            "cells": {
             "fill": {
              "color": "#EBF0F8"
             },
             "line": {
              "color": "white"
             }
            },
            "header": {
             "fill": {
              "color": "#C8D4E3"
             },
             "line": {
              "color": "white"
             }
            },
            "type": "table"
           }
          ]
         },
         "layout": {
          "annotationdefaults": {
           "arrowcolor": "#2a3f5f",
           "arrowhead": 0,
           "arrowwidth": 1
          },
          "autotypenumbers": "strict",
          "coloraxis": {
           "colorbar": {
            "outlinewidth": 0,
            "ticks": ""
           }
          },
          "colorscale": {
           "diverging": [
            [
             0,
             "#8e0152"
            ],
            [
             0.1,
             "#c51b7d"
            ],
            [
             0.2,
             "#de77ae"
            ],
            [
             0.3,
             "#f1b6da"
            ],
            [
             0.4,
             "#fde0ef"
            ],
            [
             0.5,
             "#f7f7f7"
            ],
            [
             0.6,
             "#e6f5d0"
            ],
            [
             0.7,
             "#b8e186"
            ],
            [
             0.8,
             "#7fbc41"
            ],
            [
             0.9,
             "#4d9221"
            ],
            [
             1,
             "#276419"
            ]
           ],
           "sequential": [
            [
             0,
             "#0d0887"
            ],
            [
             0.1111111111111111,
             "#46039f"
            ],
            [
             0.2222222222222222,
             "#7201a8"
            ],
            [
             0.3333333333333333,
             "#9c179e"
            ],
            [
             0.4444444444444444,
             "#bd3786"
            ],
            [
             0.5555555555555556,
             "#d8576b"
            ],
            [
             0.6666666666666666,
             "#ed7953"
            ],
            [
             0.7777777777777778,
             "#fb9f3a"
            ],
            [
             0.8888888888888888,
             "#fdca26"
            ],
            [
             1,
             "#f0f921"
            ]
           ],
           "sequentialminus": [
            [
             0,
             "#0d0887"
            ],
            [
             0.1111111111111111,
             "#46039f"
            ],
            [
             0.2222222222222222,
             "#7201a8"
            ],
            [
             0.3333333333333333,
             "#9c179e"
            ],
            [
             0.4444444444444444,
             "#bd3786"
            ],
            [
             0.5555555555555556,
             "#d8576b"
            ],
            [
             0.6666666666666666,
             "#ed7953"
            ],
            [
             0.7777777777777778,
             "#fb9f3a"
            ],
            [
             0.8888888888888888,
             "#fdca26"
            ],
            [
             1,
             "#f0f921"
            ]
           ]
          },
          "colorway": [
           "#636efa",
           "#EF553B",
           "#00cc96",
           "#ab63fa",
           "#FFA15A",
           "#19d3f3",
           "#FF6692",
           "#B6E880",
           "#FF97FF",
           "#FECB52"
          ],
          "font": {
           "color": "#2a3f5f"
          },
          "geo": {
           "bgcolor": "white",
           "lakecolor": "white",
           "landcolor": "#E5ECF6",
           "showlakes": true,
           "showland": true,
           "subunitcolor": "white"
          },
          "hoverlabel": {
           "align": "left"
          },
          "hovermode": "closest",
          "mapbox": {
           "style": "light"
          },
          "paper_bgcolor": "white",
          "plot_bgcolor": "#E5ECF6",
          "polar": {
           "angularaxis": {
            "gridcolor": "white",
            "linecolor": "white",
            "ticks": ""
           },
           "bgcolor": "#E5ECF6",
           "radialaxis": {
            "gridcolor": "white",
            "linecolor": "white",
            "ticks": ""
           }
          },
          "scene": {
           "xaxis": {
            "backgroundcolor": "#E5ECF6",
            "gridcolor": "white",
            "gridwidth": 2,
            "linecolor": "white",
            "showbackground": true,
            "ticks": "",
            "zerolinecolor": "white"
           },
           "yaxis": {
            "backgroundcolor": "#E5ECF6",
            "gridcolor": "white",
            "gridwidth": 2,
            "linecolor": "white",
            "showbackground": true,
            "ticks": "",
            "zerolinecolor": "white"
           },
           "zaxis": {
            "backgroundcolor": "#E5ECF6",
            "gridcolor": "white",
            "gridwidth": 2,
            "linecolor": "white",
            "showbackground": true,
            "ticks": "",
            "zerolinecolor": "white"
           }
          },
          "shapedefaults": {
           "line": {
            "color": "#2a3f5f"
           }
          },
          "ternary": {
           "aaxis": {
            "gridcolor": "white",
            "linecolor": "white",
            "ticks": ""
           },
           "baxis": {
            "gridcolor": "white",
            "linecolor": "white",
            "ticks": ""
           },
           "bgcolor": "#E5ECF6",
           "caxis": {
            "gridcolor": "white",
            "linecolor": "white",
            "ticks": ""
           }
          },
          "title": {
           "x": 0.05
          },
          "xaxis": {
           "automargin": true,
           "gridcolor": "white",
           "linecolor": "white",
           "ticks": "",
           "title": {
            "standoff": 15
           },
           "zerolinecolor": "white",
           "zerolinewidth": 2
          },
          "yaxis": {
           "automargin": true,
           "gridcolor": "white",
           "linecolor": "white",
           "ticks": "",
           "title": {
            "standoff": 15
           },
           "zerolinecolor": "white",
           "zerolinewidth": 2
          }
         }
        },
        "title": {
         "text": "Test and Train AUC vs Max Depth"
        },
        "xaxis": {
         "anchor": "y",
         "domain": [
          0,
          1
         ],
         "title": {
          "text": "maxDepths"
         }
        },
        "yaxis": {
         "anchor": "x",
         "domain": [
          0,
          1
         ],
         "title": {
          "text": "value"
         }
        }
       }
      }
     },
     "metadata": {},
     "output_type": "display_data"
    }
   ],
   "source": [
    "df=pd.DataFrame()\n",
    "df['maxDepths']=maxDepths\n",
    "df['test_accuracies']=test_accuracies\n",
    "df['train_accuracies']=train_accuracies\n",
    "px.line(df,x='maxDepths',y=['test_accuracies','train_accuracies'],title='Test and Train AUC vs Max Depth')"
   ]
  },
  {
   "cell_type": "markdown",
   "metadata": {
    "id": "koCUPBFUKDIZ"
   },
   "source": [
    "### **7 - Model Deployment**\n",
    "- Giving Recommendations using our model "
   ]
  },
  {
   "cell_type": "markdown",
   "metadata": {
    "id": "xomU5qnMUdWJ"
   },
   "source": [
    "\n",
    "\n",
    "We were asked to recommend a solution to reduce the customer churn. \n"
   ]
  },
  {
   "cell_type": "code",
   "execution_count": 62,
   "metadata": {
    "colab": {
     "base_uri": "https://localhost:8080/",
     "height": 542
    },
    "id": "1FIFIqdLsAvq",
    "outputId": "ba7de309-8415-42dc-fba0-7712632d8509"
   },
   "outputs": [
    {
     "data": {
      "application/vnd.plotly.v1+json": {
       "config": {
        "plotlyServerURL": "https://plot.ly"
       },
       "data": [
        {
         "alignmentgroup": "True",
         "hovertemplate": "index=%{x}<br>score=%{y}<extra></extra>",
         "legendgroup": "",
         "marker": {
          "color": "#636efa",
          "pattern": {
           "shape": ""
          }
         },
         "name": "",
         "offsetgroup": "",
         "orientation": "v",
         "showlegend": false,
         "textposition": "auto",
         "type": "bar",
         "x": [
          "gender_index",
          "SeniorCitizen_index",
          "Partner_index",
          "Dependents_index",
          "PhoneService_index",
          "MultipleLines_index",
          "InternetService_index",
          "OnlineSecurity_index",
          "OnlineBackup_index",
          "DeviceProtection_index",
          "TechSupport_index",
          "StreamingTV_index",
          "StreamingMovies_index",
          "Contract_index",
          "PaperlessBilling_index",
          "PaymentMethod_index",
          "tenure",
          "MonthlyCharges",
          "TotalCharges"
         ],
         "xaxis": "x",
         "y": [
          0.1425713648408796,
          0,
          0,
          0,
          0,
          0,
          0,
          0,
          0,
          0.1773948853845847,
          0,
          0,
          0,
          0,
          0,
          0,
          0.6800337497745358,
          0,
          0
         ],
         "yaxis": "y"
        }
       ],
       "layout": {
        "barmode": "relative",
        "legend": {
         "tracegroupgap": 0
        },
        "margin": {
         "t": 60
        },
        "template": {
         "data": {
          "bar": [
           {
            "error_x": {
             "color": "#2a3f5f"
            },
            "error_y": {
             "color": "#2a3f5f"
            },
            "marker": {
             "line": {
              "color": "#E5ECF6",
              "width": 0.5
             },
             "pattern": {
              "fillmode": "overlay",
              "size": 10,
              "solidity": 0.2
             }
            },
            "type": "bar"
           }
          ],
          "barpolar": [
           {
            "marker": {
             "line": {
              "color": "#E5ECF6",
              "width": 0.5
             },
             "pattern": {
              "fillmode": "overlay",
              "size": 10,
              "solidity": 0.2
             }
            },
            "type": "barpolar"
           }
          ],
          "carpet": [
           {
            "aaxis": {
             "endlinecolor": "#2a3f5f",
             "gridcolor": "white",
             "linecolor": "white",
             "minorgridcolor": "white",
             "startlinecolor": "#2a3f5f"
            },
            "baxis": {
             "endlinecolor": "#2a3f5f",
             "gridcolor": "white",
             "linecolor": "white",
             "minorgridcolor": "white",
             "startlinecolor": "#2a3f5f"
            },
            "type": "carpet"
           }
          ],
          "choropleth": [
           {
            "colorbar": {
             "outlinewidth": 0,
             "ticks": ""
            },
            "type": "choropleth"
           }
          ],
          "contour": [
           {
            "colorbar": {
             "outlinewidth": 0,
             "ticks": ""
            },
            "colorscale": [
             [
              0,
              "#0d0887"
             ],
             [
              0.1111111111111111,
              "#46039f"
             ],
             [
              0.2222222222222222,
              "#7201a8"
             ],
             [
              0.3333333333333333,
              "#9c179e"
             ],
             [
              0.4444444444444444,
              "#bd3786"
             ],
             [
              0.5555555555555556,
              "#d8576b"
             ],
             [
              0.6666666666666666,
              "#ed7953"
             ],
             [
              0.7777777777777778,
              "#fb9f3a"
             ],
             [
              0.8888888888888888,
              "#fdca26"
             ],
             [
              1,
              "#f0f921"
             ]
            ],
            "type": "contour"
           }
          ],
          "contourcarpet": [
           {
            "colorbar": {
             "outlinewidth": 0,
             "ticks": ""
            },
            "type": "contourcarpet"
           }
          ],
          "heatmap": [
           {
            "colorbar": {
             "outlinewidth": 0,
             "ticks": ""
            },
            "colorscale": [
             [
              0,
              "#0d0887"
             ],
             [
              0.1111111111111111,
              "#46039f"
             ],
             [
              0.2222222222222222,
              "#7201a8"
             ],
             [
              0.3333333333333333,
              "#9c179e"
             ],
             [
              0.4444444444444444,
              "#bd3786"
             ],
             [
              0.5555555555555556,
              "#d8576b"
             ],
             [
              0.6666666666666666,
              "#ed7953"
             ],
             [
              0.7777777777777778,
              "#fb9f3a"
             ],
             [
              0.8888888888888888,
              "#fdca26"
             ],
             [
              1,
              "#f0f921"
             ]
            ],
            "type": "heatmap"
           }
          ],
          "heatmapgl": [
           {
            "colorbar": {
             "outlinewidth": 0,
             "ticks": ""
            },
            "colorscale": [
             [
              0,
              "#0d0887"
             ],
             [
              0.1111111111111111,
              "#46039f"
             ],
             [
              0.2222222222222222,
              "#7201a8"
             ],
             [
              0.3333333333333333,
              "#9c179e"
             ],
             [
              0.4444444444444444,
              "#bd3786"
             ],
             [
              0.5555555555555556,
              "#d8576b"
             ],
             [
              0.6666666666666666,
              "#ed7953"
             ],
             [
              0.7777777777777778,
              "#fb9f3a"
             ],
             [
              0.8888888888888888,
              "#fdca26"
             ],
             [
              1,
              "#f0f921"
             ]
            ],
            "type": "heatmapgl"
           }
          ],
          "histogram": [
           {
            "marker": {
             "pattern": {
              "fillmode": "overlay",
              "size": 10,
              "solidity": 0.2
             }
            },
            "type": "histogram"
           }
          ],
          "histogram2d": [
           {
            "colorbar": {
             "outlinewidth": 0,
             "ticks": ""
            },
            "colorscale": [
             [
              0,
              "#0d0887"
             ],
             [
              0.1111111111111111,
              "#46039f"
             ],
             [
              0.2222222222222222,
              "#7201a8"
             ],
             [
              0.3333333333333333,
              "#9c179e"
             ],
             [
              0.4444444444444444,
              "#bd3786"
             ],
             [
              0.5555555555555556,
              "#d8576b"
             ],
             [
              0.6666666666666666,
              "#ed7953"
             ],
             [
              0.7777777777777778,
              "#fb9f3a"
             ],
             [
              0.8888888888888888,
              "#fdca26"
             ],
             [
              1,
              "#f0f921"
             ]
            ],
            "type": "histogram2d"
           }
          ],
          "histogram2dcontour": [
           {
            "colorbar": {
             "outlinewidth": 0,
             "ticks": ""
            },
            "colorscale": [
             [
              0,
              "#0d0887"
             ],
             [
              0.1111111111111111,
              "#46039f"
             ],
             [
              0.2222222222222222,
              "#7201a8"
             ],
             [
              0.3333333333333333,
              "#9c179e"
             ],
             [
              0.4444444444444444,
              "#bd3786"
             ],
             [
              0.5555555555555556,
              "#d8576b"
             ],
             [
              0.6666666666666666,
              "#ed7953"
             ],
             [
              0.7777777777777778,
              "#fb9f3a"
             ],
             [
              0.8888888888888888,
              "#fdca26"
             ],
             [
              1,
              "#f0f921"
             ]
            ],
            "type": "histogram2dcontour"
           }
          ],
          "mesh3d": [
           {
            "colorbar": {
             "outlinewidth": 0,
             "ticks": ""
            },
            "type": "mesh3d"
           }
          ],
          "parcoords": [
           {
            "line": {
             "colorbar": {
              "outlinewidth": 0,
              "ticks": ""
             }
            },
            "type": "parcoords"
           }
          ],
          "pie": [
           {
            "automargin": true,
            "type": "pie"
           }
          ],
          "scatter": [
           {
            "fillpattern": {
             "fillmode": "overlay",
             "size": 10,
             "solidity": 0.2
            },
            "type": "scatter"
           }
          ],
          "scatter3d": [
           {
            "line": {
             "colorbar": {
              "outlinewidth": 0,
              "ticks": ""
             }
            },
            "marker": {
             "colorbar": {
              "outlinewidth": 0,
              "ticks": ""
             }
            },
            "type": "scatter3d"
           }
          ],
          "scattercarpet": [
           {
            "marker": {
             "colorbar": {
              "outlinewidth": 0,
              "ticks": ""
             }
            },
            "type": "scattercarpet"
           }
          ],
          "scattergeo": [
           {
            "marker": {
             "colorbar": {
              "outlinewidth": 0,
              "ticks": ""
             }
            },
            "type": "scattergeo"
           }
          ],
          "scattergl": [
           {
            "marker": {
             "colorbar": {
              "outlinewidth": 0,
              "ticks": ""
             }
            },
            "type": "scattergl"
           }
          ],
          "scattermapbox": [
           {
            "marker": {
             "colorbar": {
              "outlinewidth": 0,
              "ticks": ""
             }
            },
            "type": "scattermapbox"
           }
          ],
          "scatterpolar": [
           {
            "marker": {
             "colorbar": {
              "outlinewidth": 0,
              "ticks": ""
             }
            },
            "type": "scatterpolar"
           }
          ],
          "scatterpolargl": [
           {
            "marker": {
             "colorbar": {
              "outlinewidth": 0,
              "ticks": ""
             }
            },
            "type": "scatterpolargl"
           }
          ],
          "scatterternary": [
           {
            "marker": {
             "colorbar": {
              "outlinewidth": 0,
              "ticks": ""
             }
            },
            "type": "scatterternary"
           }
          ],
          "surface": [
           {
            "colorbar": {
             "outlinewidth": 0,
             "ticks": ""
            },
            "colorscale": [
             [
              0,
              "#0d0887"
             ],
             [
              0.1111111111111111,
              "#46039f"
             ],
             [
              0.2222222222222222,
              "#7201a8"
             ],
             [
              0.3333333333333333,
              "#9c179e"
             ],
             [
              0.4444444444444444,
              "#bd3786"
             ],
             [
              0.5555555555555556,
              "#d8576b"
             ],
             [
              0.6666666666666666,
              "#ed7953"
             ],
             [
              0.7777777777777778,
              "#fb9f3a"
             ],
             [
              0.8888888888888888,
              "#fdca26"
             ],
             [
              1,
              "#f0f921"
             ]
            ],
            "type": "surface"
           }
          ],
          "table": [
           {
            "cells": {
             "fill": {
              "color": "#EBF0F8"
             },
             "line": {
              "color": "white"
             }
            },
            "header": {
             "fill": {
              "color": "#C8D4E3"
             },
             "line": {
              "color": "white"
             }
            },
            "type": "table"
           }
          ]
         },
         "layout": {
          "annotationdefaults": {
           "arrowcolor": "#2a3f5f",
           "arrowhead": 0,
           "arrowwidth": 1
          },
          "autotypenumbers": "strict",
          "coloraxis": {
           "colorbar": {
            "outlinewidth": 0,
            "ticks": ""
           }
          },
          "colorscale": {
           "diverging": [
            [
             0,
             "#8e0152"
            ],
            [
             0.1,
             "#c51b7d"
            ],
            [
             0.2,
             "#de77ae"
            ],
            [
             0.3,
             "#f1b6da"
            ],
            [
             0.4,
             "#fde0ef"
            ],
            [
             0.5,
             "#f7f7f7"
            ],
            [
             0.6,
             "#e6f5d0"
            ],
            [
             0.7,
             "#b8e186"
            ],
            [
             0.8,
             "#7fbc41"
            ],
            [
             0.9,
             "#4d9221"
            ],
            [
             1,
             "#276419"
            ]
           ],
           "sequential": [
            [
             0,
             "#0d0887"
            ],
            [
             0.1111111111111111,
             "#46039f"
            ],
            [
             0.2222222222222222,
             "#7201a8"
            ],
            [
             0.3333333333333333,
             "#9c179e"
            ],
            [
             0.4444444444444444,
             "#bd3786"
            ],
            [
             0.5555555555555556,
             "#d8576b"
            ],
            [
             0.6666666666666666,
             "#ed7953"
            ],
            [
             0.7777777777777778,
             "#fb9f3a"
            ],
            [
             0.8888888888888888,
             "#fdca26"
            ],
            [
             1,
             "#f0f921"
            ]
           ],
           "sequentialminus": [
            [
             0,
             "#0d0887"
            ],
            [
             0.1111111111111111,
             "#46039f"
            ],
            [
             0.2222222222222222,
             "#7201a8"
            ],
            [
             0.3333333333333333,
             "#9c179e"
            ],
            [
             0.4444444444444444,
             "#bd3786"
            ],
            [
             0.5555555555555556,
             "#d8576b"
            ],
            [
             0.6666666666666666,
             "#ed7953"
            ],
            [
             0.7777777777777778,
             "#fb9f3a"
            ],
            [
             0.8888888888888888,
             "#fdca26"
            ],
            [
             1,
             "#f0f921"
            ]
           ]
          },
          "colorway": [
           "#636efa",
           "#EF553B",
           "#00cc96",
           "#ab63fa",
           "#FFA15A",
           "#19d3f3",
           "#FF6692",
           "#B6E880",
           "#FF97FF",
           "#FECB52"
          ],
          "font": {
           "color": "#2a3f5f"
          },
          "geo": {
           "bgcolor": "white",
           "lakecolor": "white",
           "landcolor": "#E5ECF6",
           "showlakes": true,
           "showland": true,
           "subunitcolor": "white"
          },
          "hoverlabel": {
           "align": "left"
          },
          "hovermode": "closest",
          "mapbox": {
           "style": "light"
          },
          "paper_bgcolor": "white",
          "plot_bgcolor": "#E5ECF6",
          "polar": {
           "angularaxis": {
            "gridcolor": "white",
            "linecolor": "white",
            "ticks": ""
           },
           "bgcolor": "#E5ECF6",
           "radialaxis": {
            "gridcolor": "white",
            "linecolor": "white",
            "ticks": ""
           }
          },
          "scene": {
           "xaxis": {
            "backgroundcolor": "#E5ECF6",
            "gridcolor": "white",
            "gridwidth": 2,
            "linecolor": "white",
            "showbackground": true,
            "ticks": "",
            "zerolinecolor": "white"
           },
           "yaxis": {
            "backgroundcolor": "#E5ECF6",
            "gridcolor": "white",
            "gridwidth": 2,
            "linecolor": "white",
            "showbackground": true,
            "ticks": "",
            "zerolinecolor": "white"
           },
           "zaxis": {
            "backgroundcolor": "#E5ECF6",
            "gridcolor": "white",
            "gridwidth": 2,
            "linecolor": "white",
            "showbackground": true,
            "ticks": "",
            "zerolinecolor": "white"
           }
          },
          "shapedefaults": {
           "line": {
            "color": "#2a3f5f"
           }
          },
          "ternary": {
           "aaxis": {
            "gridcolor": "white",
            "linecolor": "white",
            "ticks": ""
           },
           "baxis": {
            "gridcolor": "white",
            "linecolor": "white",
            "ticks": ""
           },
           "bgcolor": "#E5ECF6",
           "caxis": {
            "gridcolor": "white",
            "linecolor": "white",
            "ticks": ""
           }
          },
          "title": {
           "x": 0.05
          },
          "xaxis": {
           "automargin": true,
           "gridcolor": "white",
           "linecolor": "white",
           "ticks": "",
           "title": {
            "standoff": 15
           },
           "zerolinecolor": "white",
           "zerolinewidth": 2
          },
          "yaxis": {
           "automargin": true,
           "gridcolor": "white",
           "linecolor": "white",
           "ticks": "",
           "title": {
            "standoff": 15
           },
           "zerolinecolor": "white",
           "zerolinewidth": 2
          }
         }
        },
        "xaxis": {
         "anchor": "y",
         "domain": [
          0,
          1
         ],
         "title": {
          "text": "index"
         }
        },
        "yaxis": {
         "anchor": "x",
         "domain": [
          0,
          1
         ],
         "title": {
          "text": "score"
         }
        }
       }
      }
     },
     "metadata": {},
     "output_type": "display_data"
    }
   ],
   "source": [
    "feature_importance = model.featureImportances\n",
    "scores = [score for i ,score in enumerate(feature_importance)]\n",
    "df=pd.DataFrame(scores,columns=['score'],index=categorical_features_indexer+numerical_features)\n",
    "px.bar(df,y='score')"
   ]
  },
  {
   "cell_type": "markdown",
   "metadata": {
    "id": "n_FrIiJwWuwg"
   },
   "source": [
    "Let's create a bar chart to visualize the customer churn per contract type"
   ]
  },
  {
   "cell_type": "code",
   "execution_count": 63,
   "metadata": {
    "colab": {
     "base_uri": "https://localhost:8080/",
     "height": 542
    },
    "id": "V4eObw2aK7Qp",
    "outputId": "f824121b-15c7-4045-a0b5-0f4549ca2eea"
   },
   "outputs": [
    {
     "data": {
      "application/vnd.plotly.v1+json": {
       "config": {
        "plotlyServerURL": "https://plot.ly"
       },
       "data": [
        {
         "alignmentgroup": "True",
         "hovertemplate": "Churn=No<br>Contract=%{x}<br>count=%{y}<extra></extra>",
         "legendgroup": "No",
         "marker": {
          "color": "#636efa",
          "pattern": {
           "shape": ""
          }
         },
         "name": "No",
         "offsetgroup": "No",
         "orientation": "v",
         "showlegend": true,
         "textposition": "auto",
         "type": "bar",
         "x": [
          "Month-to-month",
          "One year",
          "Two year"
         ],
         "xaxis": "x",
         "y": [
          2219,
          1307,
          1647
         ],
         "yaxis": "y"
        },
        {
         "alignmentgroup": "True",
         "hovertemplate": "Churn=Yes<br>Contract=%{x}<br>count=%{y}<extra></extra>",
         "legendgroup": "Yes",
         "marker": {
          "color": "#EF553B",
          "pattern": {
           "shape": ""
          }
         },
         "name": "Yes",
         "offsetgroup": "Yes",
         "orientation": "v",
         "showlegend": true,
         "textposition": "auto",
         "type": "bar",
         "x": [
          "Month-to-month",
          "Two year",
          "One year"
         ],
         "xaxis": "x",
         "y": [
          1655,
          48,
          166
         ],
         "yaxis": "y"
        }
       ],
       "layout": {
        "barmode": "relative",
        "legend": {
         "title": {
          "text": "Churn"
         },
         "tracegroupgap": 0
        },
        "template": {
         "data": {
          "bar": [
           {
            "error_x": {
             "color": "#2a3f5f"
            },
            "error_y": {
             "color": "#2a3f5f"
            },
            "marker": {
             "line": {
              "color": "#E5ECF6",
              "width": 0.5
             },
             "pattern": {
              "fillmode": "overlay",
              "size": 10,
              "solidity": 0.2
             }
            },
            "type": "bar"
           }
          ],
          "barpolar": [
           {
            "marker": {
             "line": {
              "color": "#E5ECF6",
              "width": 0.5
             },
             "pattern": {
              "fillmode": "overlay",
              "size": 10,
              "solidity": 0.2
             }
            },
            "type": "barpolar"
           }
          ],
          "carpet": [
           {
            "aaxis": {
             "endlinecolor": "#2a3f5f",
             "gridcolor": "white",
             "linecolor": "white",
             "minorgridcolor": "white",
             "startlinecolor": "#2a3f5f"
            },
            "baxis": {
             "endlinecolor": "#2a3f5f",
             "gridcolor": "white",
             "linecolor": "white",
             "minorgridcolor": "white",
             "startlinecolor": "#2a3f5f"
            },
            "type": "carpet"
           }
          ],
          "choropleth": [
           {
            "colorbar": {
             "outlinewidth": 0,
             "ticks": ""
            },
            "type": "choropleth"
           }
          ],
          "contour": [
           {
            "colorbar": {
             "outlinewidth": 0,
             "ticks": ""
            },
            "colorscale": [
             [
              0,
              "#0d0887"
             ],
             [
              0.1111111111111111,
              "#46039f"
             ],
             [
              0.2222222222222222,
              "#7201a8"
             ],
             [
              0.3333333333333333,
              "#9c179e"
             ],
             [
              0.4444444444444444,
              "#bd3786"
             ],
             [
              0.5555555555555556,
              "#d8576b"
             ],
             [
              0.6666666666666666,
              "#ed7953"
             ],
             [
              0.7777777777777778,
              "#fb9f3a"
             ],
             [
              0.8888888888888888,
              "#fdca26"
             ],
             [
              1,
              "#f0f921"
             ]
            ],
            "type": "contour"
           }
          ],
          "contourcarpet": [
           {
            "colorbar": {
             "outlinewidth": 0,
             "ticks": ""
            },
            "type": "contourcarpet"
           }
          ],
          "heatmap": [
           {
            "colorbar": {
             "outlinewidth": 0,
             "ticks": ""
            },
            "colorscale": [
             [
              0,
              "#0d0887"
             ],
             [
              0.1111111111111111,
              "#46039f"
             ],
             [
              0.2222222222222222,
              "#7201a8"
             ],
             [
              0.3333333333333333,
              "#9c179e"
             ],
             [
              0.4444444444444444,
              "#bd3786"
             ],
             [
              0.5555555555555556,
              "#d8576b"
             ],
             [
              0.6666666666666666,
              "#ed7953"
             ],
             [
              0.7777777777777778,
              "#fb9f3a"
             ],
             [
              0.8888888888888888,
              "#fdca26"
             ],
             [
              1,
              "#f0f921"
             ]
            ],
            "type": "heatmap"
           }
          ],
          "heatmapgl": [
           {
            "colorbar": {
             "outlinewidth": 0,
             "ticks": ""
            },
            "colorscale": [
             [
              0,
              "#0d0887"
             ],
             [
              0.1111111111111111,
              "#46039f"
             ],
             [
              0.2222222222222222,
              "#7201a8"
             ],
             [
              0.3333333333333333,
              "#9c179e"
             ],
             [
              0.4444444444444444,
              "#bd3786"
             ],
             [
              0.5555555555555556,
              "#d8576b"
             ],
             [
              0.6666666666666666,
              "#ed7953"
             ],
             [
              0.7777777777777778,
              "#fb9f3a"
             ],
             [
              0.8888888888888888,
              "#fdca26"
             ],
             [
              1,
              "#f0f921"
             ]
            ],
            "type": "heatmapgl"
           }
          ],
          "histogram": [
           {
            "marker": {
             "pattern": {
              "fillmode": "overlay",
              "size": 10,
              "solidity": 0.2
             }
            },
            "type": "histogram"
           }
          ],
          "histogram2d": [
           {
            "colorbar": {
             "outlinewidth": 0,
             "ticks": ""
            },
            "colorscale": [
             [
              0,
              "#0d0887"
             ],
             [
              0.1111111111111111,
              "#46039f"
             ],
             [
              0.2222222222222222,
              "#7201a8"
             ],
             [
              0.3333333333333333,
              "#9c179e"
             ],
             [
              0.4444444444444444,
              "#bd3786"
             ],
             [
              0.5555555555555556,
              "#d8576b"
             ],
             [
              0.6666666666666666,
              "#ed7953"
             ],
             [
              0.7777777777777778,
              "#fb9f3a"
             ],
             [
              0.8888888888888888,
              "#fdca26"
             ],
             [
              1,
              "#f0f921"
             ]
            ],
            "type": "histogram2d"
           }
          ],
          "histogram2dcontour": [
           {
            "colorbar": {
             "outlinewidth": 0,
             "ticks": ""
            },
            "colorscale": [
             [
              0,
              "#0d0887"
             ],
             [
              0.1111111111111111,
              "#46039f"
             ],
             [
              0.2222222222222222,
              "#7201a8"
             ],
             [
              0.3333333333333333,
              "#9c179e"
             ],
             [
              0.4444444444444444,
              "#bd3786"
             ],
             [
              0.5555555555555556,
              "#d8576b"
             ],
             [
              0.6666666666666666,
              "#ed7953"
             ],
             [
              0.7777777777777778,
              "#fb9f3a"
             ],
             [
              0.8888888888888888,
              "#fdca26"
             ],
             [
              1,
              "#f0f921"
             ]
            ],
            "type": "histogram2dcontour"
           }
          ],
          "mesh3d": [
           {
            "colorbar": {
             "outlinewidth": 0,
             "ticks": ""
            },
            "type": "mesh3d"
           }
          ],
          "parcoords": [
           {
            "line": {
             "colorbar": {
              "outlinewidth": 0,
              "ticks": ""
             }
            },
            "type": "parcoords"
           }
          ],
          "pie": [
           {
            "automargin": true,
            "type": "pie"
           }
          ],
          "scatter": [
           {
            "fillpattern": {
             "fillmode": "overlay",
             "size": 10,
             "solidity": 0.2
            },
            "type": "scatter"
           }
          ],
          "scatter3d": [
           {
            "line": {
             "colorbar": {
              "outlinewidth": 0,
              "ticks": ""
             }
            },
            "marker": {
             "colorbar": {
              "outlinewidth": 0,
              "ticks": ""
             }
            },
            "type": "scatter3d"
           }
          ],
          "scattercarpet": [
           {
            "marker": {
             "colorbar": {
              "outlinewidth": 0,
              "ticks": ""
             }
            },
            "type": "scattercarpet"
           }
          ],
          "scattergeo": [
           {
            "marker": {
             "colorbar": {
              "outlinewidth": 0,
              "ticks": ""
             }
            },
            "type": "scattergeo"
           }
          ],
          "scattergl": [
           {
            "marker": {
             "colorbar": {
              "outlinewidth": 0,
              "ticks": ""
             }
            },
            "type": "scattergl"
           }
          ],
          "scattermapbox": [
           {
            "marker": {
             "colorbar": {
              "outlinewidth": 0,
              "ticks": ""
             }
            },
            "type": "scattermapbox"
           }
          ],
          "scatterpolar": [
           {
            "marker": {
             "colorbar": {
              "outlinewidth": 0,
              "ticks": ""
             }
            },
            "type": "scatterpolar"
           }
          ],
          "scatterpolargl": [
           {
            "marker": {
             "colorbar": {
              "outlinewidth": 0,
              "ticks": ""
             }
            },
            "type": "scatterpolargl"
           }
          ],
          "scatterternary": [
           {
            "marker": {
             "colorbar": {
              "outlinewidth": 0,
              "ticks": ""
             }
            },
            "type": "scatterternary"
           }
          ],
          "surface": [
           {
            "colorbar": {
             "outlinewidth": 0,
             "ticks": ""
            },
            "colorscale": [
             [
              0,
              "#0d0887"
             ],
             [
              0.1111111111111111,
              "#46039f"
             ],
             [
              0.2222222222222222,
              "#7201a8"
             ],
             [
              0.3333333333333333,
              "#9c179e"
             ],
             [
              0.4444444444444444,
              "#bd3786"
             ],
             [
              0.5555555555555556,
              "#d8576b"
             ],
             [
              0.6666666666666666,
              "#ed7953"
             ],
             [
              0.7777777777777778,
              "#fb9f3a"
             ],
             [
              0.8888888888888888,
              "#fdca26"
             ],
             [
              1,
              "#f0f921"
             ]
            ],
            "type": "surface"
           }
          ],
          "table": [
           {
            "cells": {
             "fill": {
              "color": "#EBF0F8"
             },
             "line": {
              "color": "white"
             }
            },
            "header": {
             "fill": {
              "color": "#C8D4E3"
             },
             "line": {
              "color": "white"
             }
            },
            "type": "table"
           }
          ]
         },
         "layout": {
          "annotationdefaults": {
           "arrowcolor": "#2a3f5f",
           "arrowhead": 0,
           "arrowwidth": 1
          },
          "autotypenumbers": "strict",
          "coloraxis": {
           "colorbar": {
            "outlinewidth": 0,
            "ticks": ""
           }
          },
          "colorscale": {
           "diverging": [
            [
             0,
             "#8e0152"
            ],
            [
             0.1,
             "#c51b7d"
            ],
            [
             0.2,
             "#de77ae"
            ],
            [
             0.3,
             "#f1b6da"
            ],
            [
             0.4,
             "#fde0ef"
            ],
            [
             0.5,
             "#f7f7f7"
            ],
            [
             0.6,
             "#e6f5d0"
            ],
            [
             0.7,
             "#b8e186"
            ],
            [
             0.8,
             "#7fbc41"
            ],
            [
             0.9,
             "#4d9221"
            ],
            [
             1,
             "#276419"
            ]
           ],
           "sequential": [
            [
             0,
             "#0d0887"
            ],
            [
             0.1111111111111111,
             "#46039f"
            ],
            [
             0.2222222222222222,
             "#7201a8"
            ],
            [
             0.3333333333333333,
             "#9c179e"
            ],
            [
             0.4444444444444444,
             "#bd3786"
            ],
            [
             0.5555555555555556,
             "#d8576b"
            ],
            [
             0.6666666666666666,
             "#ed7953"
            ],
            [
             0.7777777777777778,
             "#fb9f3a"
            ],
            [
             0.8888888888888888,
             "#fdca26"
            ],
            [
             1,
             "#f0f921"
            ]
           ],
           "sequentialminus": [
            [
             0,
             "#0d0887"
            ],
            [
             0.1111111111111111,
             "#46039f"
            ],
            [
             0.2222222222222222,
             "#7201a8"
            ],
            [
             0.3333333333333333,
             "#9c179e"
            ],
            [
             0.4444444444444444,
             "#bd3786"
            ],
            [
             0.5555555555555556,
             "#d8576b"
            ],
            [
             0.6666666666666666,
             "#ed7953"
            ],
            [
             0.7777777777777778,
             "#fb9f3a"
            ],
            [
             0.8888888888888888,
             "#fdca26"
            ],
            [
             1,
             "#f0f921"
            ]
           ]
          },
          "colorway": [
           "#636efa",
           "#EF553B",
           "#00cc96",
           "#ab63fa",
           "#FFA15A",
           "#19d3f3",
           "#FF6692",
           "#B6E880",
           "#FF97FF",
           "#FECB52"
          ],
          "font": {
           "color": "#2a3f5f"
          },
          "geo": {
           "bgcolor": "white",
           "lakecolor": "white",
           "landcolor": "#E5ECF6",
           "showlakes": true,
           "showland": true,
           "subunitcolor": "white"
          },
          "hoverlabel": {
           "align": "left"
          },
          "hovermode": "closest",
          "mapbox": {
           "style": "light"
          },
          "paper_bgcolor": "white",
          "plot_bgcolor": "#E5ECF6",
          "polar": {
           "angularaxis": {
            "gridcolor": "white",
            "linecolor": "white",
            "ticks": ""
           },
           "bgcolor": "#E5ECF6",
           "radialaxis": {
            "gridcolor": "white",
            "linecolor": "white",
            "ticks": ""
           }
          },
          "scene": {
           "xaxis": {
            "backgroundcolor": "#E5ECF6",
            "gridcolor": "white",
            "gridwidth": 2,
            "linecolor": "white",
            "showbackground": true,
            "ticks": "",
            "zerolinecolor": "white"
           },
           "yaxis": {
            "backgroundcolor": "#E5ECF6",
            "gridcolor": "white",
            "gridwidth": 2,
            "linecolor": "white",
            "showbackground": true,
            "ticks": "",
            "zerolinecolor": "white"
           },
           "zaxis": {
            "backgroundcolor": "#E5ECF6",
            "gridcolor": "white",
            "gridwidth": 2,
            "linecolor": "white",
            "showbackground": true,
            "ticks": "",
            "zerolinecolor": "white"
           }
          },
          "shapedefaults": {
           "line": {
            "color": "#2a3f5f"
           }
          },
          "ternary": {
           "aaxis": {
            "gridcolor": "white",
            "linecolor": "white",
            "ticks": ""
           },
           "baxis": {
            "gridcolor": "white",
            "linecolor": "white",
            "ticks": ""
           },
           "bgcolor": "#E5ECF6",
           "caxis": {
            "gridcolor": "white",
            "linecolor": "white",
            "ticks": ""
           }
          },
          "title": {
           "x": 0.05
          },
          "xaxis": {
           "automargin": true,
           "gridcolor": "white",
           "linecolor": "white",
           "ticks": "",
           "title": {
            "standoff": 15
           },
           "zerolinecolor": "white",
           "zerolinewidth": 2
          },
          "yaxis": {
           "automargin": true,
           "gridcolor": "white",
           "linecolor": "white",
           "ticks": "",
           "title": {
            "standoff": 15
           },
           "zerolinecolor": "white",
           "zerolinewidth": 2
          }
         }
        },
        "title": {
         "text": "Churn vs Contract"
        },
        "xaxis": {
         "anchor": "y",
         "domain": [
          0,
          1
         ],
         "title": {
          "text": "Contract"
         }
        },
        "yaxis": {
         "anchor": "x",
         "domain": [
          0,
          1
         ],
         "title": {
          "text": "count"
         }
        }
       }
      }
     },
     "metadata": {},
     "output_type": "display_data"
    }
   ],
   "source": [
    "df=data.groupBy([\"Contract\",\"Churn\"]).count().toPandas()\n",
    "px.bar(df,x='Contract',y='count',color='Churn',title='Churn vs Contract')"
   ]
  },
  {
   "cell_type": "markdown",
   "metadata": {
    "id": "MhaY0_iA6pp1"
   },
   "source": [
    "The bar chart displays the number of churned customers based on their contract type. It is evident that customers with a \"Month-to-month\" contract have a higher churn rate compared to those with \"One year\" or \"Two year\" contracts. As a recommendation, the telecommunication company could consider offering incentives or discounts to encourage customers with month-to-month contracts to switch to longer-term contracts. "
   ]
  }
 ],
 "metadata": {
  "colab": {
   "collapsed_sections": [
    "O1eOogPqix4i",
    "oZzDBEKT2H9P",
    "WcTLE0ZdS-so",
    "CQMD4VIuPDen",
    "_og11F0MdrYE",
    "sZXX1rqz8hoT",
    "koCUPBFUKDIZ"
   ],
   "provenance": []
  },
  "kernelspec": {
   "display_name": "Python 3 (ipykernel)",
   "language": "python",
   "name": "python3"
  },
  "language_info": {
   "codemirror_mode": {
    "name": "ipython",
    "version": 3
   },
   "file_extension": ".py",
   "mimetype": "text/x-python",
   "name": "python",
   "nbconvert_exporter": "python",
   "pygments_lexer": "ipython3",
   "version": "3.10.6"
  }
 },
 "nbformat": 4,
 "nbformat_minor": 4
}
